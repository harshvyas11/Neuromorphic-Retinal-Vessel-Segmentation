{
 "cells": [
  {
   "cell_type": "code",
   "execution_count": 173,
   "id": "11c5c769",
   "metadata": {},
   "outputs": [],
   "source": [
    "from keras.models import load_model\n",
    "from tensorflow.keras import backend as K\n",
    "import tensorflow as tf\n",
    "import pandas as pd\n",
    "from glob import glob\n",
    "import generator as gen\n",
    "import numpy as np\n",
    "import cv2\n",
    "import matplotlib.pyplot as plt\n",
    "import skimage.io as io\n",
    "import skimage.transform as trans\n",
    "import numpy as np\n",
    "from tensorflow.keras import layers\n",
    "from tensorflow.keras.models import *\n",
    "from tensorflow.keras.layers import *\n",
    "from tensorflow.keras.optimizers import *\n",
    "from tensorflow.keras.callbacks import ModelCheckpoint, LearningRateScheduler\n",
    "from tensorflow.keras import backend as K\n",
    "import tensorflow as tf\n",
    "#from keras.applications.resnet50 import ResNet50\n",
    "from keras.applications.resnet import ResNet50\n",
    "\n",
    "def dice_coeff(y_true, y_pred, smooth=100):\n",
    "    y_true_flatten = K.flatten(y_true)\n",
    "    y_pred_flatten = K.flatten(y_pred)\n",
    "\n",
    "    intersection = K.sum(y_true_flatten * y_pred_flatten)\n",
    "    union = K.sum(y_true_flatten) + K.sum(y_pred_flatten)\n",
    "    return (2 * intersection + smooth) / (union + smooth)\n",
    "\n",
    "def dice_coeff_loss(y_true, y_pred, smooth=100):\n",
    "    return 1 - dice_coeff(y_true, y_pred, smooth)\n",
    "\n",
    "def dice_metric(y_true, y_pred, smooth=100):\n",
    "    y_true_flatten = K.flatten(y_true)\n",
    "    y_pred_flatten = K.flatten(y_pred)\n",
    "\n",
    "    intersection = K.sum(y_true_flatten * y_pred_flatten)\n",
    "    union = K.sum(y_true_flatten) + K.sum(y_pred_flatten)\n",
    "    return (2 * intersection + smooth) / (union + smooth)\n",
    "\n",
    "def dice_loss(y_true, y_pred, smooth=100):\n",
    "    return 1 - dice_coeff(y_true, y_pred, smooth)"
   ]
  },
  {
   "cell_type": "code",
   "execution_count": 174,
   "id": "4918ad1a",
   "metadata": {},
   "outputs": [],
   "source": [
    "data_path_test = \"G:\\\\Harsh_Birva_minor_Proj\\\\FIVES\\\\test\"\n",
    "\n",
    "batch_size = 1"
   ]
  },
  {
   "cell_type": "code",
   "execution_count": 175,
   "id": "783dce10",
   "metadata": {},
   "outputs": [],
   "source": [
    "def DICE_COE(mask1, mask2):\n",
    "    intersect = np.sum(mask1*mask2)\n",
    "    fsum = np.sum(mask1)\n",
    "    ssum = np.sum(mask2)\n",
    "    dice = (2 * intersect ) / (fsum + ssum)\n",
    "    dice = np.mean(dice)\n",
    "    dice = round(dice, 3)\n",
    "    return dice    "
   ]
  },
  {
   "cell_type": "code",
   "execution_count": 176,
   "id": "7a77628d",
   "metadata": {},
   "outputs": [],
   "source": [
    "mynet_64 = tf.keras.models.load_model(\"G:\\\\Harsh_Birva_minor_Proj\\\\New_Fives_models\\\\mynet32_256_16_3branch.keras\", custom_objects={'dice_coeff': dice_coeff ,'dice_coeff_loss': dice_coeff_loss})"
   ]
  },
  {
   "cell_type": "code",
   "execution_count": 177,
   "id": "49e75abb",
   "metadata": {},
   "outputs": [],
   "source": [
    "retina_files_test = glob(pathname = data_path_test+'\\\\Original\\\\*A*')\n",
    "mask_files_test = [path.replace('Original', 'Ground truth') for path in retina_files_test]\n",
    "\n",
    "df_test_A = pd.DataFrame( data = {\n",
    "    'retina': retina_files_test,\n",
    "    'mask': mask_files_test\n",
    "})"
   ]
  },
  {
   "cell_type": "code",
   "execution_count": 178,
   "id": "ad40bac0",
   "metadata": {},
   "outputs": [],
   "source": [
    "retina_files_test = glob(pathname = data_path_test+'\\\\Original\\\\*D*')\n",
    "mask_files_test = [path.replace('Original', 'Ground truth') for path in retina_files_test]\n",
    "\n",
    "df_test_D = pd.DataFrame( data = {\n",
    "    'retina': retina_files_test,\n",
    "    'mask': mask_files_test\n",
    "})"
   ]
  },
  {
   "cell_type": "code",
   "execution_count": 179,
   "id": "41c4abd0",
   "metadata": {},
   "outputs": [],
   "source": [
    "retina_files_test = glob(pathname = data_path_test+'\\\\Original\\\\*_G*')\n",
    "mask_files_test = [path.replace('Original', 'Ground truth') for path in retina_files_test]\n",
    "\n",
    "df_test_G = pd.DataFrame( data = {\n",
    "    'retina': retina_files_test,\n",
    "    'mask': mask_files_test\n",
    "})"
   ]
  },
  {
   "cell_type": "code",
   "execution_count": 180,
   "id": "705740e1",
   "metadata": {},
   "outputs": [],
   "source": [
    "retina_files_test = glob(pathname = data_path_test+'\\\\Original\\\\*_N*')\n",
    "mask_files_test = [path.replace('Original', 'Ground truth') for path in retina_files_test]\n",
    "\n",
    "df_test_N = pd.DataFrame( data = {\n",
    "    'retina': retina_files_test,\n",
    "    'mask': mask_files_test\n",
    "})"
   ]
  },
  {
   "cell_type": "code",
   "execution_count": 181,
   "id": "cd929de1",
   "metadata": {},
   "outputs": [],
   "source": [
    "image_size = 256"
   ]
  },
  {
   "cell_type": "code",
   "execution_count": 182,
   "id": "d5922729",
   "metadata": {},
   "outputs": [],
   "source": [
    "def load_and_preprocess_image(file_path):\n",
    "    img = cv2.imread(file_path)\n",
    "    img_rgb = cv2.cvtColor(img, cv2.COLOR_BGR2RGB)\n",
    "    img_resized = cv2.resize(img_rgb, (image_size,image_size))\n",
    "    img_scaled = img_resized.astype(np.float32) / 255.0\n",
    "    return img_scaled"
   ]
  },
  {
   "cell_type": "code",
   "execution_count": 183,
   "id": "4f07eabb",
   "metadata": {},
   "outputs": [],
   "source": [
    "def load_and_preprocess_mask(file_path):\n",
    "    img = cv2.imread(file_path, cv2.IMREAD_GRAYSCALE )\n",
    "    img = img[:,:,np.newaxis]\n",
    "    img_resized = cv2.resize(img, (256,256))\n",
    "    img_scaled = img_resized.astype(np.float32) / 255.0\n",
    "    img_scaled[img_scaled >= 0.25] = 1\n",
    "    img_scaled[img_scaled < 0.25] = 0\n",
    "    return img_scaled"
   ]
  },
  {
   "cell_type": "code",
   "execution_count": 184,
   "id": "3dc5d0cd",
   "metadata": {},
   "outputs": [],
   "source": [
    "kernel = np.array([[0,1,0],[1,1,1],[0,1,0]],dtype =np.uint8)"
   ]
  },
  {
   "cell_type": "markdown",
   "id": "c15a336b",
   "metadata": {},
   "source": [
    "# Age-Related"
   ]
  },
  {
   "cell_type": "code",
   "execution_count": 185,
   "id": "6b0f06d7",
   "metadata": {
    "scrolled": true
   },
   "outputs": [
    {
     "name": "stdout",
     "output_type": "stream",
     "text": [
      "1/1 [==============================] - 0s 314ms/step\n",
      "1/1 [==============================] - 0s 20ms/step\n",
      "1/1 [==============================] - 0s 23ms/step\n",
      "1/1 [==============================] - 0s 20ms/step\n",
      "1/1 [==============================] - 0s 30ms/step\n",
      "1/1 [==============================] - 0s 20ms/step\n",
      "1/1 [==============================] - 0s 20ms/step\n",
      "1/1 [==============================] - 0s 24ms/step\n",
      "1/1 [==============================] - 0s 20ms/step\n",
      "1/1 [==============================] - 0s 30ms/step\n",
      "1/1 [==============================] - 0s 21ms/step\n",
      "1/1 [==============================] - 0s 20ms/step\n",
      "1/1 [==============================] - 0s 16ms/step\n",
      "1/1 [==============================] - 0s 20ms/step\n",
      "1/1 [==============================] - 0s 24ms/step\n",
      "1/1 [==============================] - 0s 30ms/step\n",
      "1/1 [==============================] - 0s 27ms/step\n",
      "1/1 [==============================] - 0s 22ms/step\n",
      "1/1 [==============================] - 0s 20ms/step\n",
      "1/1 [==============================] - 0s 17ms/step\n",
      "1/1 [==============================] - 0s 20ms/step\n",
      "1/1 [==============================] - 0s 30ms/step\n",
      "1/1 [==============================] - 0s 20ms/step\n",
      "1/1 [==============================] - 0s 20ms/step\n",
      "1/1 [==============================] - 0s 14ms/step\n",
      "1/1 [==============================] - 0s 20ms/step\n",
      "1/1 [==============================] - 0s 23ms/step\n",
      "1/1 [==============================] - 0s 20ms/step\n",
      "1/1 [==============================] - 0s 20ms/step\n",
      "1/1 [==============================] - 0s 20ms/step\n",
      "1/1 [==============================] - 0s 24ms/step\n",
      "1/1 [==============================] - 0s 30ms/step\n",
      "1/1 [==============================] - 0s 23ms/step\n",
      "1/1 [==============================] - 0s 20ms/step\n",
      "1/1 [==============================] - 0s 20ms/step\n",
      "1/1 [==============================] - 0s 20ms/step\n",
      "1/1 [==============================] - 0s 17ms/step\n",
      "1/1 [==============================] - 0s 20ms/step\n",
      "1/1 [==============================] - 0s 32ms/step\n",
      "1/1 [==============================] - 0s 22ms/step\n",
      "1/1 [==============================] - 0s 30ms/step\n",
      "1/1 [==============================] - 0s 18ms/step\n",
      "1/1 [==============================] - 0s 30ms/step\n",
      "1/1 [==============================] - 0s 23ms/step\n",
      "1/1 [==============================] - 0s 30ms/step\n",
      "1/1 [==============================] - 0s 30ms/step\n",
      "1/1 [==============================] - 0s 18ms/step\n",
      "1/1 [==============================] - 0s 15ms/step\n",
      "1/1 [==============================] - 0s 30ms/step\n",
      "1/1 [==============================] - 0s 30ms/step\n"
     ]
    }
   ],
   "source": [
    "age_dice = []\n",
    "age_thin_dice = []\n",
    "age_thick_dice = []\n",
    "\n",
    "for i in range(50):\n",
    "    retina_img = load_and_preprocess_image(df_test_A.iloc[i]['retina'])\n",
    "    mask_img = load_and_preprocess_mask(df_test_A.iloc[i]['mask'])\n",
    "    \n",
    "    retina_img = retina_img[np.newaxis,:,:,:]\n",
    "    pred_img = mynet_64.predict(retina_img)\n",
    "    pred_img = (np.squeeze(pred_img) > 0.5).astype(np.uint8)\n",
    "    mask_img = np.squeeze(mask_img).astype(np.uint8)\n",
    "    \n",
    "    age_dice.append(DICE_COE(mask_img,pred_img))\n",
    "    original = mask_img.copy()\n",
    "    original_pred = pred_img.copy()\n",
    "    \n",
    "    pred_img = pred_img.astype(float)\n",
    "    mask_img = mask_img.astype(float)\n",
    "    \n",
    "    for i in range(5):\n",
    "        mask_img = cv2.erode(mask_img, kernel)\n",
    "        pred_img = cv2.erode(pred_img, kernel)\n",
    "        \n",
    "        mask_img = cv2.dilate(mask_img, kernel)\n",
    "        pred_img = cv2.dilate(pred_img, kernel)\n",
    "    \n",
    "    pred_img = pred_img.astype(np.uint8)\n",
    "    mask_img = mask_img.astype(np.uint8)\n",
    "    \n",
    "    original_thin = cv2.subtract(original,mask_img).astype(np.uint8)\n",
    "    predicted_thin = cv2.subtract(original_pred,pred_img).astype(np.uint8)\n",
    "    \n",
    "    age_thin_dice.append(DICE_COE(original_thin,predicted_thin))\n",
    "    age_thick_dice.append(DICE_COE(mask_img, pred_img))"
   ]
  },
  {
   "cell_type": "code",
   "execution_count": 186,
   "id": "a92fddec",
   "metadata": {},
   "outputs": [
    {
     "data": {
      "text/plain": [
       "50"
      ]
     },
     "execution_count": 186,
     "metadata": {},
     "output_type": "execute_result"
    }
   ],
   "source": [
    "len(age_dice)"
   ]
  },
  {
   "cell_type": "code",
   "execution_count": 187,
   "id": "c7dcae78",
   "metadata": {
    "scrolled": true
   },
   "outputs": [
    {
     "name": "stdout",
     "output_type": "stream",
     "text": [
      "Age Related Dice: 0.871\n"
     ]
    }
   ],
   "source": [
    "print(f'Age Related Dice: {round(np.mean(age_dice),3)}')"
   ]
  },
  {
   "cell_type": "code",
   "execution_count": 188,
   "id": "c11646bb",
   "metadata": {},
   "outputs": [
    {
     "name": "stdout",
     "output_type": "stream",
     "text": [
      "Age Related Thin Dice: 0.726\n"
     ]
    }
   ],
   "source": [
    "print(f'Age Related Thin Dice: {round(np.mean(age_thin_dice),3)}')"
   ]
  },
  {
   "cell_type": "code",
   "execution_count": 189,
   "id": "91eca25f",
   "metadata": {},
   "outputs": [
    {
     "name": "stdout",
     "output_type": "stream",
     "text": [
      "Age Related Thick Dice: 0.82\n"
     ]
    }
   ],
   "source": [
    "print(f'Age Related Thick Dice: {round(np.mean(age_thick_dice),3)}')"
   ]
  },
  {
   "cell_type": "markdown",
   "id": "9e178655",
   "metadata": {},
   "source": [
    "# Diabetes"
   ]
  },
  {
   "cell_type": "code",
   "execution_count": 190,
   "id": "dc526b3a",
   "metadata": {
    "scrolled": true
   },
   "outputs": [
    {
     "name": "stdout",
     "output_type": "stream",
     "text": [
      "1/1 [==============================] - 0s 19ms/step\n",
      "1/1 [==============================] - 0s 20ms/step\n",
      "1/1 [==============================] - 0s 24ms/step\n",
      "1/1 [==============================] - 0s 30ms/step\n",
      "1/1 [==============================] - 0s 24ms/step\n",
      "1/1 [==============================] - 0s 23ms/step\n",
      "1/1 [==============================] - 0s 19ms/step\n",
      "1/1 [==============================] - 0s 16ms/step\n",
      "1/1 [==============================] - 0s 20ms/step\n",
      "1/1 [==============================] - 0s 20ms/step\n",
      "1/1 [==============================] - 0s 27ms/step\n",
      "1/1 [==============================] - 0s 20ms/step\n",
      "1/1 [==============================] - 0s 20ms/step\n",
      "1/1 [==============================] - 0s 25ms/step\n",
      "1/1 [==============================] - 0s 20ms/step\n",
      "1/1 [==============================] - 0s 23ms/step\n",
      "1/1 [==============================] - 0s 20ms/step\n",
      "1/1 [==============================] - 0s 30ms/step\n",
      "1/1 [==============================] - 0s 23ms/step\n",
      "1/1 [==============================] - 0s 21ms/step\n",
      "1/1 [==============================] - 0s 20ms/step\n",
      "1/1 [==============================] - 0s 33ms/step\n",
      "1/1 [==============================] - 0s 23ms/step\n",
      "1/1 [==============================] - 0s 21ms/step\n",
      "1/1 [==============================] - 0s 20ms/step\n",
      "1/1 [==============================] - 0s 30ms/step\n",
      "1/1 [==============================] - 0s 30ms/step\n",
      "1/1 [==============================] - 0s 30ms/step\n",
      "1/1 [==============================] - 0s 20ms/step\n",
      "1/1 [==============================] - 0s 20ms/step\n",
      "1/1 [==============================] - 0s 20ms/step\n",
      "1/1 [==============================] - 0s 20ms/step\n",
      "1/1 [==============================] - 0s 30ms/step\n",
      "1/1 [==============================] - 0s 20ms/step\n",
      "1/1 [==============================] - 0s 19ms/step\n",
      "1/1 [==============================] - 0s 20ms/step\n",
      "1/1 [==============================] - 0s 23ms/step\n",
      "1/1 [==============================] - 0s 20ms/step\n",
      "1/1 [==============================] - 0s 20ms/step\n",
      "1/1 [==============================] - 0s 30ms/step\n",
      "1/1 [==============================] - 0s 28ms/step\n",
      "1/1 [==============================] - 0s 26ms/step\n",
      "1/1 [==============================] - 0s 32ms/step\n",
      "1/1 [==============================] - 0s 20ms/step\n",
      "1/1 [==============================] - 0s 30ms/step\n",
      "1/1 [==============================] - 0s 30ms/step\n",
      "1/1 [==============================] - 0s 20ms/step\n",
      "1/1 [==============================] - 0s 20ms/step\n",
      "1/1 [==============================] - 0s 24ms/step\n",
      "1/1 [==============================] - 0s 20ms/step\n"
     ]
    }
   ],
   "source": [
    "diabetes_dice = []\n",
    "diabetes_thin_dice = []\n",
    "diabetes_thick_dice = []\n",
    "\n",
    "for i in range(50):\n",
    "    retina_img = load_and_preprocess_image(df_test_D.iloc[i]['retina'])\n",
    "    mask_img = load_and_preprocess_mask(df_test_D.iloc[i]['mask'])\n",
    "    \n",
    "    retina_img = retina_img[np.newaxis,:,:,:]\n",
    "    pred_img = mynet_64.predict(retina_img)\n",
    "    pred_img = (np.squeeze(pred_img) > 0.5).astype(np.uint8)\n",
    "    mask_img = np.squeeze(mask_img).astype(np.uint8)\n",
    "    \n",
    "    diabetes_dice.append(DICE_COE(mask_img,pred_img))\n",
    "    \n",
    "    original = mask_img.copy()\n",
    "    original_pred = pred_img.copy()\n",
    "    \n",
    "    pred_img = pred_img.astype(float)\n",
    "    mask_img = mask_img.astype(float)\n",
    "    \n",
    "    for i in range(5):\n",
    "        mask_img = cv2.erode(mask_img, kernel)\n",
    "        pred_img = cv2.erode(pred_img, kernel)\n",
    "        \n",
    "        mask_img = cv2.dilate(mask_img, kernel)\n",
    "        pred_img = cv2.dilate(pred_img, kernel)\n",
    "    \n",
    "    pred_img = pred_img.astype(np.uint8)\n",
    "    mask_img = mask_img.astype(np.uint8)\n",
    "    \n",
    "    original_thin = cv2.subtract(original,mask_img).astype(np.uint8)\n",
    "    predicted_thin = cv2.subtract(original_pred,pred_img).astype(np.uint8)\n",
    "    \n",
    "    diabetes_thin_dice.append(DICE_COE(original_thin,predicted_thin))\n",
    "    diabetes_thick_dice.append(DICE_COE(mask_img, pred_img))"
   ]
  },
  {
   "cell_type": "code",
   "execution_count": 191,
   "id": "c9efda75",
   "metadata": {},
   "outputs": [
    {
     "data": {
      "text/plain": [
       "50"
      ]
     },
     "execution_count": 191,
     "metadata": {},
     "output_type": "execute_result"
    }
   ],
   "source": [
    "len(diabetes_dice)"
   ]
  },
  {
   "cell_type": "code",
   "execution_count": 192,
   "id": "1f5ba37d",
   "metadata": {},
   "outputs": [
    {
     "name": "stdout",
     "output_type": "stream",
     "text": [
      "Diabetes Dice: 0.841\n"
     ]
    }
   ],
   "source": [
    "print(f'Diabetes Dice: {round(np.mean(diabetes_dice),3)}')"
   ]
  },
  {
   "cell_type": "code",
   "execution_count": 193,
   "id": "43a8b923",
   "metadata": {},
   "outputs": [
    {
     "name": "stdout",
     "output_type": "stream",
     "text": [
      "Diabetes Thin Dice: 0.653\n"
     ]
    }
   ],
   "source": [
    "print(f'Diabetes Thin Dice: {round(np.mean(diabetes_thin_dice),3)}')"
   ]
  },
  {
   "cell_type": "code",
   "execution_count": 194,
   "id": "707d58e8",
   "metadata": {},
   "outputs": [
    {
     "name": "stdout",
     "output_type": "stream",
     "text": [
      "Diabetes Thick Dice: 0.793\n"
     ]
    }
   ],
   "source": [
    "print(f'Diabetes Thick Dice: {round(np.mean(diabetes_thick_dice),3)}')"
   ]
  },
  {
   "cell_type": "markdown",
   "id": "b02c7180",
   "metadata": {},
   "source": [
    "# Glucoma"
   ]
  },
  {
   "cell_type": "code",
   "execution_count": 195,
   "id": "8f0cd0ea",
   "metadata": {
    "scrolled": true
   },
   "outputs": [
    {
     "name": "stdout",
     "output_type": "stream",
     "text": [
      "1/1 [==============================] - 0s 23ms/step\n",
      "1/1 [==============================] - 0s 20ms/step\n",
      "1/1 [==============================] - 0s 30ms/step\n",
      "1/1 [==============================] - 0s 23ms/step\n",
      "1/1 [==============================] - 0s 20ms/step\n",
      "1/1 [==============================] - 0s 20ms/step\n",
      "1/1 [==============================] - 0s 17ms/step\n",
      "1/1 [==============================] - 0s 21ms/step\n",
      "1/1 [==============================] - 0s 30ms/step\n",
      "1/1 [==============================] - 0s 20ms/step\n",
      "1/1 [==============================] - 0s 21ms/step\n",
      "1/1 [==============================] - 0s 30ms/step\n",
      "1/1 [==============================] - 0s 32ms/step\n",
      "1/1 [==============================] - 0s 20ms/step\n",
      "1/1 [==============================] - 0s 28ms/step\n",
      "1/1 [==============================] - 0s 32ms/step\n",
      "1/1 [==============================] - 0s 20ms/step\n",
      "1/1 [==============================] - 0s 20ms/step\n",
      "1/1 [==============================] - 0s 30ms/step\n",
      "1/1 [==============================] - 0s 32ms/step\n",
      "1/1 [==============================] - 0s 16ms/step\n",
      "1/1 [==============================] - 0s 20ms/step\n",
      "1/1 [==============================] - 0s 30ms/step\n",
      "1/1 [==============================] - 0s 20ms/step\n",
      "1/1 [==============================] - 0s 27ms/step\n",
      "1/1 [==============================] - 0s 20ms/step\n",
      "1/1 [==============================] - 0s 24ms/step\n",
      "1/1 [==============================] - 0s 30ms/step\n",
      "1/1 [==============================] - 0s 32ms/step\n",
      "1/1 [==============================] - 0s 30ms/step\n",
      "1/1 [==============================] - 0s 31ms/step\n",
      "1/1 [==============================] - 0s 30ms/step\n",
      "1/1 [==============================] - 0s 20ms/step\n",
      "1/1 [==============================] - 0s 30ms/step\n",
      "1/1 [==============================] - 0s 30ms/step\n",
      "1/1 [==============================] - 0s 16ms/step\n",
      "1/1 [==============================] - 0s 20ms/step\n",
      "1/1 [==============================] - 0s 20ms/step\n",
      "1/1 [==============================] - 0s 30ms/step\n",
      "1/1 [==============================] - 0s 29ms/step\n",
      "1/1 [==============================] - 0s 25ms/step\n",
      "1/1 [==============================] - 0s 20ms/step\n",
      "1/1 [==============================] - 0s 21ms/step\n",
      "1/1 [==============================] - 0s 30ms/step\n",
      "1/1 [==============================] - 0s 27ms/step\n",
      "1/1 [==============================] - 0s 30ms/step\n",
      "1/1 [==============================] - 0s 20ms/step\n",
      "1/1 [==============================] - 0s 20ms/step\n",
      "1/1 [==============================] - 0s 18ms/step\n",
      "1/1 [==============================] - 0s 30ms/step\n"
     ]
    }
   ],
   "source": [
    "glucoma_dice = []\n",
    "glucoma_thin_dice = []\n",
    "glucoma_thick_dice = []\n",
    "\n",
    "for i in range(50):\n",
    "    retina_img = load_and_preprocess_image(df_test_G.iloc[i]['retina'])\n",
    "    mask_img = load_and_preprocess_mask(df_test_G.iloc[i]['mask'])\n",
    "    \n",
    "    retina_img = retina_img[np.newaxis,:,:,:]\n",
    "    pred_img = mynet_64.predict(retina_img)\n",
    "    pred_img = (np.squeeze(pred_img) > 0.5).astype(np.uint8)\n",
    "    mask_img = np.squeeze(mask_img).astype(np.uint8)\n",
    "    \n",
    "    glucoma_dice.append(DICE_COE(mask_img,pred_img))\n",
    "    \n",
    "    original = mask_img.copy()\n",
    "    original_pred = pred_img.copy()\n",
    "    \n",
    "    pred_img = pred_img.astype(float)\n",
    "    mask_img = mask_img.astype(float)\n",
    "    \n",
    "    for i in range(5):\n",
    "        mask_img = cv2.erode(mask_img, kernel)\n",
    "        pred_img = cv2.erode(pred_img, kernel)\n",
    "        \n",
    "        mask_img = cv2.dilate(mask_img, kernel)\n",
    "        pred_img = cv2.dilate(pred_img, kernel)\n",
    "    \n",
    "    pred_img = pred_img.astype(np.uint8)\n",
    "    mask_img = mask_img.astype(np.uint8)\n",
    "    \n",
    "    original_thin = cv2.subtract(original,mask_img).astype(np.uint8)\n",
    "    predicted_thin = cv2.subtract(original_pred,pred_img).astype(np.uint8)\n",
    "    \n",
    "    glucoma_thin_dice.append(DICE_COE(original_thin,predicted_thin))\n",
    "    glucoma_thick_dice.append(DICE_COE(mask_img, pred_img))"
   ]
  },
  {
   "cell_type": "code",
   "execution_count": 196,
   "id": "02e65fbf",
   "metadata": {},
   "outputs": [
    {
     "data": {
      "text/plain": [
       "50"
      ]
     },
     "execution_count": 196,
     "metadata": {},
     "output_type": "execute_result"
    }
   ],
   "source": [
    "len(glucoma_dice)"
   ]
  },
  {
   "cell_type": "code",
   "execution_count": 197,
   "id": "0804bdce",
   "metadata": {},
   "outputs": [
    {
     "name": "stdout",
     "output_type": "stream",
     "text": [
      "Glucoma Dice: 0.801\n"
     ]
    }
   ],
   "source": [
    "print(f'Glucoma Dice: {round(np.mean(glucoma_dice),3)}')"
   ]
  },
  {
   "cell_type": "code",
   "execution_count": 198,
   "id": "340b763b",
   "metadata": {},
   "outputs": [
    {
     "name": "stdout",
     "output_type": "stream",
     "text": [
      "Glucoma Thin Dice: 0.629\n"
     ]
    }
   ],
   "source": [
    "print(f'Glucoma Thin Dice: {round(np.mean(glucoma_thin_dice),3)}')"
   ]
  },
  {
   "cell_type": "code",
   "execution_count": 199,
   "id": "87dd6293",
   "metadata": {},
   "outputs": [
    {
     "name": "stdout",
     "output_type": "stream",
     "text": [
      "Glucoma Thick Dice: 0.801\n"
     ]
    }
   ],
   "source": [
    "print(f'Glucoma Thick Dice: {round(np.mean(glucoma_thick_dice),3)}')"
   ]
  },
  {
   "cell_type": "markdown",
   "id": "3f0c5b55",
   "metadata": {},
   "source": [
    "# Normal"
   ]
  },
  {
   "cell_type": "code",
   "execution_count": 200,
   "id": "feda4f68",
   "metadata": {
    "scrolled": true
   },
   "outputs": [
    {
     "name": "stdout",
     "output_type": "stream",
     "text": [
      "1/1 [==============================] - 0s 23ms/step\n",
      "1/1 [==============================] - 0s 23ms/step\n",
      "1/1 [==============================] - 0s 30ms/step\n",
      "1/1 [==============================] - 0s 23ms/step\n",
      "1/1 [==============================] - 0s 18ms/step\n",
      "1/1 [==============================] - 0s 24ms/step\n",
      "1/1 [==============================] - 0s 30ms/step\n",
      "1/1 [==============================] - 0s 20ms/step\n",
      "1/1 [==============================] - 0s 33ms/step\n",
      "1/1 [==============================] - 0s 20ms/step\n",
      "1/1 [==============================] - 0s 19ms/step\n",
      "1/1 [==============================] - 0s 30ms/step\n",
      "1/1 [==============================] - 0s 30ms/step\n",
      "1/1 [==============================] - 0s 22ms/step\n",
      "1/1 [==============================] - 0s 28ms/step\n",
      "1/1 [==============================] - 0s 30ms/step\n",
      "1/1 [==============================] - 0s 20ms/step\n",
      "1/1 [==============================] - 0s 30ms/step\n",
      "1/1 [==============================] - 0s 20ms/step\n",
      "1/1 [==============================] - 0s 29ms/step\n",
      "1/1 [==============================] - 0s 17ms/step\n",
      "1/1 [==============================] - 0s 30ms/step\n",
      "1/1 [==============================] - 0s 29ms/step\n",
      "1/1 [==============================] - 0s 20ms/step\n",
      "1/1 [==============================] - 0s 20ms/step\n",
      "1/1 [==============================] - 0s 30ms/step\n",
      "1/1 [==============================] - 0s 18ms/step\n",
      "1/1 [==============================] - 0s 20ms/step\n",
      "1/1 [==============================] - 0s 20ms/step\n",
      "1/1 [==============================] - 0s 21ms/step\n",
      "1/1 [==============================] - 0s 18ms/step\n",
      "1/1 [==============================] - 0s 30ms/step\n",
      "1/1 [==============================] - 0s 33ms/step\n",
      "1/1 [==============================] - 0s 21ms/step\n",
      "1/1 [==============================] - 0s 21ms/step\n",
      "1/1 [==============================] - 0s 20ms/step\n",
      "1/1 [==============================] - 0s 30ms/step\n",
      "1/1 [==============================] - 0s 30ms/step\n",
      "1/1 [==============================] - 0s 20ms/step\n",
      "1/1 [==============================] - 0s 22ms/step\n",
      "1/1 [==============================] - 0s 20ms/step\n",
      "1/1 [==============================] - 0s 23ms/step\n",
      "1/1 [==============================] - 0s 30ms/step\n",
      "1/1 [==============================] - 0s 29ms/step\n",
      "1/1 [==============================] - 0s 29ms/step\n",
      "1/1 [==============================] - 0s 20ms/step\n",
      "1/1 [==============================] - 0s 32ms/step\n",
      "1/1 [==============================] - 0s 22ms/step\n",
      "1/1 [==============================] - 0s 30ms/step\n",
      "1/1 [==============================] - 0s 30ms/step\n"
     ]
    }
   ],
   "source": [
    "normal_dice = []\n",
    "normal_thin_dice = []\n",
    "normal_thick_dice = []\n",
    "\n",
    "for i in range(50):\n",
    "    retina_img = load_and_preprocess_image(df_test_N.iloc[i]['retina'])\n",
    "    mask_img = load_and_preprocess_mask(df_test_N.iloc[i]['mask'])\n",
    "    \n",
    "    retina_img = retina_img[np.newaxis,:,:,:]\n",
    "    pred_img = mynet_64.predict(retina_img)\n",
    "    pred_img = (np.squeeze(pred_img) > 0.5).astype(np.uint8)\n",
    "    mask_img = np.squeeze(mask_img).astype(np.uint8)\n",
    "    \n",
    "    normal_dice.append(DICE_COE(mask_img,pred_img))\n",
    "    \n",
    "    original = mask_img.copy()\n",
    "    original_pred = pred_img.copy()\n",
    "    \n",
    "    pred_img = pred_img.astype(float)\n",
    "    mask_img = mask_img.astype(float)\n",
    "    \n",
    "    for i in range(5):\n",
    "        mask_img = cv2.erode(mask_img, kernel)\n",
    "        pred_img = cv2.erode(pred_img, kernel)\n",
    "        \n",
    "        mask_img = cv2.dilate(mask_img, kernel)\n",
    "        pred_img = cv2.dilate(pred_img, kernel)\n",
    "    \n",
    "    pred_img = pred_img.astype(np.uint8)\n",
    "    mask_img = mask_img.astype(np.uint8)\n",
    "    \n",
    "    original_thin = cv2.subtract(original,mask_img).astype(np.uint8)\n",
    "    predicted_thin = cv2.subtract(original_pred,pred_img).astype(np.uint8)\n",
    "    \n",
    "    normal_thin_dice.append(DICE_COE(original_thin,predicted_thin))\n",
    "    normal_thick_dice.append(DICE_COE(mask_img, pred_img))"
   ]
  },
  {
   "cell_type": "code",
   "execution_count": 201,
   "id": "f5b3f0fe",
   "metadata": {},
   "outputs": [
    {
     "data": {
      "text/plain": [
       "50"
      ]
     },
     "execution_count": 201,
     "metadata": {},
     "output_type": "execute_result"
    }
   ],
   "source": [
    "len(normal_dice)"
   ]
  },
  {
   "cell_type": "code",
   "execution_count": 202,
   "id": "864cf8c9",
   "metadata": {},
   "outputs": [
    {
     "name": "stdout",
     "output_type": "stream",
     "text": [
      "Normal Dice: 0.861\n"
     ]
    }
   ],
   "source": [
    "print(f'Normal Dice: {round(np.mean(normal_dice),3)}')"
   ]
  },
  {
   "cell_type": "code",
   "execution_count": 203,
   "id": "5f7c9cd0",
   "metadata": {},
   "outputs": [
    {
     "name": "stdout",
     "output_type": "stream",
     "text": [
      "Normal Thin Dice: 0.704\n"
     ]
    }
   ],
   "source": [
    "print(f'Normal Thin Dice: {round(np.mean(normal_thin_dice),3)}')"
   ]
  },
  {
   "cell_type": "code",
   "execution_count": 204,
   "id": "7d5eadc8",
   "metadata": {},
   "outputs": [
    {
     "name": "stdout",
     "output_type": "stream",
     "text": [
      "Normal Thick Dice: 0.825\n"
     ]
    }
   ],
   "source": [
    "print(f'Normal Thick Dice: {round(np.mean(normal_thick_dice),3)}')"
   ]
  }
 ],
 "metadata": {
  "kernelspec": {
   "display_name": "Python 3 (ipykernel)",
   "language": "python",
   "name": "python3"
  },
  "language_info": {
   "codemirror_mode": {
    "name": "ipython",
    "version": 3
   },
   "file_extension": ".py",
   "mimetype": "text/x-python",
   "name": "python",
   "nbconvert_exporter": "python",
   "pygments_lexer": "ipython3",
   "version": "3.9.16"
  }
 },
 "nbformat": 4,
 "nbformat_minor": 5
}
