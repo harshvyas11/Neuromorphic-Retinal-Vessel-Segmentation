{
 "cells": [
  {
   "cell_type": "code",
   "execution_count": 1,
   "id": "12eeaacc",
   "metadata": {},
   "outputs": [],
   "source": [
    "import zipfile\n",
    "from glob import glob\n",
    "import tensorflow as tf\n",
    "from tensorflow import keras\n",
    "from tensorflow.keras import backend as K\n",
    "from tensorflow.keras.models import Model, load_model, save_model\n",
    "import warnings\n",
    "warnings.filterwarnings('ignore')\n",
    "import cv2\n",
    "import matplotlib.pyplot as plt\n",
    "import pandas as pd\n",
    "import numpy as np\n",
    "from tensorflow.image import resize\n",
    "from sklearn.model_selection import train_test_split\n",
    "from tensorflow.keras.preprocessing.image import ImageDataGenerator\n",
    "import os\n",
    "import re\n",
    "from keras_unet_collection import models, losses\n",
    "from keras.optimizers import Adam\n",
    "from tensorflow.keras.callbacks import EarlyStopping, ModelCheckpoint\n",
    "from keras.metrics import Accuracy\n",
    "from skimage.metrics import structural_similarity as ssim\n",
    "from tensorflow.keras.layers import Input, BatchNormalization, Dropout, Lambda,add, Conv2D, Conv2DTranspose, MaxPooling2D\n",
    "from tensorflow.keras.layers import UpSampling2D, concatenate, BatchNormalization, Activation, SeparableConv2D"
   ]
  },
  {
   "cell_type": "code",
   "execution_count": 2,
   "id": "fff121a2",
   "metadata": {},
   "outputs": [
    {
     "name": "stdout",
     "output_type": "stream",
     "text": [
      "600\n"
     ]
    }
   ],
   "source": [
    "data_path = \"G:\\\\Harsh_Birva_minor_Proj\\\\FIVES\\\\train\"\n",
    "\n",
    "\n",
    "retina_files = glob(pathname = data_path+'\\\\Original\\\\*')\n",
    "retina_files[:1]\n",
    "\n",
    "mask_files = [path.replace('Original', 'Ground truth') for path in retina_files]\n",
    "mask_files[:1]\n",
    "\n",
    "data_path_test = \"G:\\\\Harsh_Birva_minor_Proj\\\\FIVES\\\\test\"\n",
    "\n",
    "retina_files_test = glob(pathname = data_path_test+'\\\\Original\\\\*')\n",
    "retina_files_test[:1]\n",
    "\n",
    "mask_files_test = [path.replace('Original', 'Ground truth') for path in retina_files_test]\n",
    "mask_files_test[:1]\n",
    "\n",
    "df_train = pd.DataFrame( data = {\n",
    "    'retina': retina_files,\n",
    "    'mask': mask_files\n",
    "})\n",
    "\n",
    "df_test = pd.DataFrame( data = {\n",
    "    'retina': retina_files_test,\n",
    "    'mask': mask_files_test\n",
    "})\n",
    "\n",
    "for i,v in enumerate(df_train['retina']):\n",
    "    if(v[-3:]!='png'):\n",
    "        print(i)\n",
    "        drop_row = i\n",
    "        break\n",
    "\n",
    "df_train.drop(drop_row, inplace=True)"
   ]
  },
  {
   "cell_type": "code",
   "execution_count": 3,
   "id": "9bb1ba7f",
   "metadata": {},
   "outputs": [],
   "source": [
    "def load_and_preprocess_image(file_path,resize):\n",
    "    img = cv2.imread(file_path)\n",
    "    img_rgb = cv2.cvtColor(img, cv2.COLOR_BGR2RGB)\n",
    "    img_resized = cv2.resize(img_rgb, (resize,resize))\n",
    "    img_scaled = img_resized.astype(np.float32) / 255.0\n",
    "    return img_scaled"
   ]
  },
  {
   "cell_type": "code",
   "execution_count": 4,
   "id": "715f4db8",
   "metadata": {},
   "outputs": [],
   "source": [
    "def load_and_preprocess_mask(file_path,resize):\n",
    "    img = cv2.imread(file_path, cv2.IMREAD_GRAYSCALE )\n",
    "    img = img[:,:,np.newaxis]\n",
    "    img_resized = cv2.resize(img, (resize,resize))\n",
    "    img_scaled = img_resized.astype(np.float32) / 255.0\n",
    "    img_scaled[img_scaled >= 0.25] = 1\n",
    "    img_scaled[img_scaled < 0.25] = 0\n",
    "    return img_scaled"
   ]
  },
  {
   "cell_type": "code",
   "execution_count": 5,
   "id": "0c91f733",
   "metadata": {},
   "outputs": [],
   "source": [
    "import IMAGE_DATA_AUGMENTATION_LIB as IDAL\n",
    "def augment_batch(imgs, masks):    \n",
    "    for i  in range(imgs.shape[0]):\n",
    "        imgs[i], masks[i] = IDAL.Augment_RandomAffine_2D(imgs[i], masks[i],\n",
    "                                     translation=0.05, \n",
    "                                     rotation_range=[-10,10], \n",
    "                                     scale_range=[0.95, 1.05], \n",
    "                                     interpolation=cv2.INTER_NEAREST)\n",
    "    return imgs, masks"
   ]
  },
  {
   "cell_type": "code",
   "execution_count": 6,
   "id": "bff38031",
   "metadata": {},
   "outputs": [],
   "source": [
    "def generate_data_generator(dataframe,resize, batch_size=8):\n",
    "    num_samples = len(dataframe)\n",
    "    while True:\n",
    "        indices = np.random.randint(0, num_samples, batch_size)\n",
    "        batch_retina = []\n",
    "        batch_mask = []\n",
    "        for idx in indices:\n",
    "            retina_img = load_and_preprocess_image(dataframe.iloc[idx]['retina'],resize)\n",
    "            mask_img = load_and_preprocess_mask(dataframe.iloc[idx]['mask'],resize)\n",
    "            batch_retina.append(retina_img)\n",
    "            batch_mask.append(mask_img)\n",
    "        batch_retina = np.array(batch_retina)\n",
    "        batch_mask = np.array(batch_mask)\n",
    "        batch_retina, batch_mask = augment_batch(batch_retina, batch_mask)\n",
    "        \n",
    "        yield batch_retina, batch_mask"
   ]
  },
  {
   "cell_type": "code",
   "execution_count": 7,
   "id": "3c8d77a9",
   "metadata": {},
   "outputs": [],
   "source": [
    "batch_size = 8\n",
    "train_generator = generate_data_generator(df_train, batch_size=batch_size,resize=512)\n",
    "test_generator = generate_data_generator(df_test, batch_size=batch_size,resize=512)"
   ]
  },
  {
   "cell_type": "code",
   "execution_count": 8,
   "id": "ccc2ee9b",
   "metadata": {},
   "outputs": [],
   "source": [
    "def dice_coeff(y_true, y_pred, smooth=100):\n",
    "    y_true_flatten = K.flatten(y_true)\n",
    "    y_pred_flatten = K.flatten(y_pred)\n",
    "\n",
    "    intersection = K.sum(y_true_flatten * y_pred_flatten)\n",
    "    union = K.sum(y_true_flatten) + K.sum(y_pred_flatten)\n",
    "    return (2 * intersection + smooth) / (union + smooth)\n",
    "\n",
    "def dice_coeff_loss(y_true, y_pred, smooth=100):\n",
    "    return 1 - dice_coeff(y_true, y_pred, smooth)"
   ]
  },
  {
   "cell_type": "code",
   "execution_count": 9,
   "id": "585db157",
   "metadata": {},
   "outputs": [],
   "source": [
    "def DICE_COE(mask1, mask2):\n",
    "    intersect = np.sum(mask1*mask2)\n",
    "    fsum = np.sum(mask1)\n",
    "    ssum = np.sum(mask2)\n",
    "    dice = (2 * intersect ) / (fsum + ssum)\n",
    "    dice = np.mean(dice)\n",
    "    dice = round(dice, 3)\n",
    "    return dice    "
   ]
  },
  {
   "cell_type": "code",
   "execution_count": 10,
   "id": "914e1a68",
   "metadata": {},
   "outputs": [],
   "source": [
    "kernel = np.array([[0,1,0],[1,1,1],[0,1,0]],dtype=np.uint8)"
   ]
  },
  {
   "cell_type": "code",
   "execution_count": 11,
   "id": "0bf9a405",
   "metadata": {},
   "outputs": [],
   "source": [
    "def evaluate(model,resize,full=None,thin=None,thick=None):\n",
    "    if full is None:\n",
    "        full = []\n",
    "    if thin is None:\n",
    "        thin = []\n",
    "    if thick is None:\n",
    "        thick = []\n",
    "        \n",
    "    for i in range(200):\n",
    "        retina_img = load_and_preprocess_image(df_test.iloc[i]['retina'],resize)\n",
    "        mask_img = load_and_preprocess_mask(df_test.iloc[i]['mask'],resize)\n",
    "        \n",
    "        retina_img = retina_img[np.newaxis,:,:,:]\n",
    "        pred_img = model.predict(retina_img)\n",
    "        pred_img = (np.squeeze(pred_img) > 0.5).astype(np.uint8)\n",
    "        mask_img = np.squeeze(mask_img).astype(np.uint8)\n",
    "\n",
    "        full.append(DICE_COE(mask_img,pred_img))\n",
    "\n",
    "        original = mask_img.copy()\n",
    "        original_pred = pred_img.copy()\n",
    "\n",
    "        pred_img = pred_img.astype(float)\n",
    "        mask_img = mask_img.astype(float)\n",
    "\n",
    "        for i in range(5):\n",
    "            mask_img = cv2.erode(mask_img, kernel)\n",
    "            pred_img = cv2.erode(pred_img, kernel)\n",
    "\n",
    "            mask_img = cv2.dilate(mask_img, kernel)\n",
    "            pred_img = cv2.dilate(pred_img, kernel)\n",
    "\n",
    "        pred_img = pred_img.astype(np.uint8)\n",
    "        mask_img = mask_img.astype(np.uint8)\n",
    "\n",
    "        original_thin = cv2.subtract(original,mask_img).astype(np.uint8)\n",
    "        predicted_thin = cv2.subtract(original_pred,pred_img).astype(np.uint8)\n",
    "\n",
    "        thin.append(DICE_COE(original_thin,predicted_thin))\n",
    "        thick.append(DICE_COE(mask_img, pred_img))\n",
    "        \n",
    "    return full,thin,thick"
   ]
  },
  {
   "cell_type": "code",
   "execution_count": null,
   "id": "6e3e5ad8",
   "metadata": {},
   "outputs": [],
   "source": [
    "def block(inputs, filters):\n",
    "    conv = Conv2D(filters, kernel_size = (3,3), padding=\"same\")(inputs)\n",
    "    bn = Activation(\"relu\")(conv)\n",
    "    conv = Conv2D(filters, kernel_size = (3,3), padding=\"same\")(bn)\n",
    "    bn = Activation(\"relu\")(conv)\n",
    "\n",
    "    return bn"
   ]
  },
  {
   "cell_type": "code",
   "execution_count": null,
   "id": "ac74c624",
   "metadata": {},
   "outputs": [],
   "source": [
    "model_atten_8 = models.att_unet_2d((None,None,3), filter_num = [16,16,16,16],\n",
    "               n_labels = 1,\n",
    "               stack_num_down = 2, stack_num_up = 2,\n",
    "               activation = 'ReLU',\n",
    "               output_activation = 'Sigmoid',\n",
    "               atten_activation='ReLU', attention='add',\n",
    "               pool=True, unpool=True,\n",
    "               batch_norm = True)"
   ]
  },
  {
   "cell_type": "code",
   "execution_count": null,
   "id": "190026be",
   "metadata": {},
   "outputs": [],
   "source": [
    "model_atten_8.summary()"
   ]
  },
  {
   "cell_type": "code",
   "execution_count": null,
   "id": "ea663aa5",
   "metadata": {},
   "outputs": [],
   "source": [
    "mynet_16 = my_net_16(input_shape = (None,None,3))\n",
    "mynet_16.summary()"
   ]
  },
  {
   "cell_type": "markdown",
   "id": "865e5a4b",
   "metadata": {},
   "source": [
    "# MyNet (Filters=16)"
   ]
  },
  {
   "cell_type": "code",
   "execution_count": null,
   "id": "6378060b",
   "metadata": {},
   "outputs": [],
   "source": [
    "f = 16\n",
    "num_blocks = 8"
   ]
  },
  {
   "cell_type": "code",
   "execution_count": null,
   "id": "54a51ffd",
   "metadata": {},
   "outputs": [],
   "source": [
    "def my_net_16(input_shape = (None, None, 3)):\n",
    "    inputs = Input(input_shape)\n",
    "    x = Conv2D(filters = f, kernel_size = (3,3), padding = 'same', activation = 'relu')(inputs)\n",
    "    x = BatchNormalization()(x)\n",
    "    \n",
    "    for i in range(num_blocks):\n",
    "        x = block(x,f)\n",
    "        \n",
    "        if i == 3 or i == 7:\n",
    "            x = BatchNormalization()(x)\n",
    "            b = Conv2D(filters = f, kernel_size = (3,3), padding = 'same', activation = 'relu')(inputs)\n",
    "            b = BatchNormalization()(b)\n",
    "            x = add([x, b])\n",
    "  \n",
    "    outputs = Conv2D(filters = 1, kernel_size = (1,1), activation = \"sigmoid\")(x)\n",
    "\n",
    "    return Model(inputs=[inputs], outputs = [outputs])"
   ]
  },
  {
   "cell_type": "code",
   "execution_count": null,
   "id": "c48ca1de",
   "metadata": {},
   "outputs": [],
   "source": [
    "epochs=50"
   ]
  },
  {
   "cell_type": "code",
   "execution_count": null,
   "id": "14bf5f0e",
   "metadata": {},
   "outputs": [],
   "source": [
    "for i in range(5):\n",
    "    filepath = f\"G:\\\\Harsh_Birva_minor_Proj\\\\new_retina_models_5\\\\mynet_16-{i+1}.keras\"\n",
    "\n",
    "    checkpoint = ModelCheckpoint(filepath, \n",
    "                             verbose=1 \n",
    "                             )\n",
    "    \n",
    "    mynet_16 = my_net_16(input_shape = (None,None,3))\n",
    "    mynet_16.compile(optimizer='adam', loss=dice_coeff_loss, metrics=[dice_coeff])\n",
    "    \n",
    "    history = mynet_16.fit(\n",
    "        train_generator,\n",
    "        steps_per_epoch=len(df_train) // batch_size,\n",
    "        epochs=epochs,\n",
    "        callbacks=[checkpoint],\n",
    "        validation_data=test_generator,\n",
    "        validation_steps=len(df_test) // batch_size\n",
    "    )\n",
    "    \n",
    "    mynet_16_dice,mynet_16_thin_dice,mynet_16_thick_dice = evaluate(mynet_16,512,None,None,None)"
   ]
  },
  {
   "cell_type": "code",
   "execution_count": null,
   "id": "e200c940",
   "metadata": {},
   "outputs": [],
   "source": [
    "mynet_16_dice"
   ]
  },
  {
   "cell_type": "code",
   "execution_count": null,
   "id": "d3dbbc94",
   "metadata": {},
   "outputs": [],
   "source": [
    "mynet_16_thin_dice"
   ]
  },
  {
   "cell_type": "code",
   "execution_count": null,
   "id": "026366a1",
   "metadata": {},
   "outputs": [],
   "source": [
    "mynet_16_thick_dice"
   ]
  },
  {
   "cell_type": "code",
   "execution_count": null,
   "id": "731f0e75",
   "metadata": {},
   "outputs": [],
   "source": []
  },
  {
   "cell_type": "markdown",
   "id": "733504f5",
   "metadata": {},
   "source": [
    "# MyNet (Filters=8)"
   ]
  },
  {
   "cell_type": "code",
   "execution_count": null,
   "id": "5f968e29",
   "metadata": {},
   "outputs": [],
   "source": [
    "f = 8\n",
    "num_blocks = 8"
   ]
  },
  {
   "cell_type": "code",
   "execution_count": null,
   "id": "1e4c2dc3",
   "metadata": {},
   "outputs": [],
   "source": [
    "def my_net_8(input_shape = (None, None, 3)):\n",
    "    inputs = Input(input_shape)\n",
    "    x = Conv2D(filters = f, kernel_size = (3,3), padding = 'same', activation = 'relu')(inputs)\n",
    "    x = BatchNormalization()(x)\n",
    "    \n",
    "    for i in range(num_blocks):\n",
    "        x = block(x,f)\n",
    "        \n",
    "        if i == 3 or i == 7:\n",
    "            x = BatchNormalization()(x)\n",
    "            b = Conv2D(filters = f, kernel_size = (3,3), padding = 'same', activation = 'relu')(inputs)\n",
    "            b = BatchNormalization()(b)\n",
    "            x = add([x, b])\n",
    "  \n",
    "    outputs = Conv2D(filters = 1, kernel_size = (1,1), activation = \"sigmoid\")(x)\n",
    "\n",
    "    return Model(inputs=[inputs], outputs = [outputs])"
   ]
  },
  {
   "cell_type": "code",
   "execution_count": null,
   "id": "7a1a2f46",
   "metadata": {},
   "outputs": [],
   "source": [
    "epochs=50"
   ]
  },
  {
   "cell_type": "code",
   "execution_count": null,
   "id": "b87ca85b",
   "metadata": {},
   "outputs": [],
   "source": [
    "for i in range(5):\n",
    "    filepath = f\"G:\\\\Harsh_Birva_minor_Proj\\\\new_retina_models_5\\\\mynet_8-{i+1}.keras\"\n",
    "\n",
    "    checkpoint = ModelCheckpoint(filepath, \n",
    "                             verbose=1 \n",
    "                             )\n",
    "    \n",
    "    mynet_8 = my_net_8(input_shape = (None,None,3))\n",
    "    mynet_8.compile(optimizer='adam', loss=dice_coeff_loss, metrics=[dice_coeff])\n",
    "    \n",
    "    history = mynet_8.fit(\n",
    "        train_generator,\n",
    "        steps_per_epoch=len(df_train) // batch_size,\n",
    "        epochs=epochs,\n",
    "        callbacks=[checkpoint],\n",
    "        validation_data=test_generator,\n",
    "        validation_steps=len(df_test) // batch_size\n",
    "    )\n",
    "    \n",
    "    mynet_8_dice,mynet_8_thin_dice,mynet_8_thick_dice = evaluate(mynet_8,512,None,None,None)"
   ]
  },
  {
   "cell_type": "code",
   "execution_count": null,
   "id": "3fb39aae",
   "metadata": {},
   "outputs": [],
   "source": [
    "mynet_8_dice"
   ]
  },
  {
   "cell_type": "code",
   "execution_count": null,
   "id": "d63ff740",
   "metadata": {},
   "outputs": [],
   "source": [
    "mynet_8_thin_dice"
   ]
  },
  {
   "cell_type": "code",
   "execution_count": null,
   "id": "44667cc0",
   "metadata": {},
   "outputs": [],
   "source": [
    "mynet_8_thick_dice"
   ]
  },
  {
   "cell_type": "markdown",
   "id": "38ddbbfd",
   "metadata": {},
   "source": [
    "# Attention U-net (Filters = 16)"
   ]
  },
  {
   "cell_type": "code",
   "execution_count": null,
   "id": "09f66d5b",
   "metadata": {},
   "outputs": [],
   "source": [
    "epochs = 50"
   ]
  },
  {
   "cell_type": "code",
   "execution_count": null,
   "id": "14ddcbab",
   "metadata": {},
   "outputs": [],
   "source": [
    "for i in range(5):\n",
    "    model_atten_16 = models.att_unet_2d((None,None,3), filter_num = [16,32,64,128],\n",
    "                                       n_labels = 1,\n",
    "                                       stack_num_down = 2, stack_num_up = 2,\n",
    "                                       activation = 'ReLU',\n",
    "                                       output_activation = 'Sigmoid',\n",
    "                                       atten_activation='ReLU', attention='add',\n",
    "                                       pool=True, unpool=True,\n",
    "                                       batch_norm = True)\n",
    "    \n",
    "    filepath = f\"G:\\\\Harsh_Birva_minor_Proj\\\\new_retina_models_5\\\\atten_unet_16-{i+1}.keras\"\n",
    "\n",
    "    checkpoint = ModelCheckpoint(filepath, \n",
    "                             verbose=1 \n",
    "                             )\n",
    "    \n",
    "    model_atten_16.compile(optimizer='adam', loss=dice_coeff_loss, metrics=[dice_coeff])\n",
    "    \n",
    "    history = model_atten_16.fit(\n",
    "        train_generator,\n",
    "        steps_per_epoch=len(df_train) // batch_size,\n",
    "        epochs=epochs,\n",
    "        callbacks=[checkpoint],\n",
    "        validation_data=test_generator,\n",
    "        validation_steps=len(df_test) // batch_size\n",
    "    )\n",
    "    \n",
    "    model_atten_16_dice,model_atten_16_thin_dice,model_atten_16_thick_dice = evaluate(model_atten_16,512,None,None,None)"
   ]
  },
  {
   "cell_type": "code",
   "execution_count": null,
   "id": "d7607b56",
   "metadata": {},
   "outputs": [],
   "source": [
    "model_atten_16_dice"
   ]
  },
  {
   "cell_type": "code",
   "execution_count": null,
   "id": "671f1132",
   "metadata": {},
   "outputs": [],
   "source": [
    "model_atten_16_thin_dice"
   ]
  },
  {
   "cell_type": "code",
   "execution_count": null,
   "id": "02ad8e8b",
   "metadata": {},
   "outputs": [],
   "source": [
    "model_atten_16_thick_dice"
   ]
  },
  {
   "cell_type": "markdown",
   "id": "116dfa59",
   "metadata": {},
   "source": [
    "# Attention U-net (Filters = 8)"
   ]
  },
  {
   "cell_type": "code",
   "execution_count": null,
   "id": "39b2a245",
   "metadata": {},
   "outputs": [],
   "source": [
    "epochs=50"
   ]
  },
  {
   "cell_type": "code",
   "execution_count": null,
   "id": "8f83a240",
   "metadata": {},
   "outputs": [],
   "source": [
    "model_atten_8_dice = []"
   ]
  },
  {
   "cell_type": "code",
   "execution_count": null,
   "id": "fa335826",
   "metadata": {},
   "outputs": [],
   "source": [
    "for i in range(5):\n",
    "    model_atten_8 = models.att_unet_2d((None,None,3), filter_num = [8,16,32,64],\n",
    "               n_labels = 1,\n",
    "               stack_num_down = 2, stack_num_up = 2,\n",
    "               activation = 'ReLU',\n",
    "               output_activation = 'Sigmoid',\n",
    "               atten_activation='ReLU', attention='add',\n",
    "               pool=True, unpool=True,\n",
    "               batch_norm = True)\n",
    "    \n",
    "    filepath = f\"G:\\\\Harsh_Birva_minor_Proj\\\\new_retina_models_5\\\\atten_unet_8-{i+1}.keras\"\n",
    "\n",
    "    checkpoint = ModelCheckpoint(filepath, \n",
    "                             verbose=1 \n",
    "                             )\n",
    "    \n",
    "    model_atten_8.compile(optimizer='adam', loss=dice_coeff_loss, metrics=[dice_coeff])\n",
    "    \n",
    "    history = model_atten_8.fit(\n",
    "        train_generator,\n",
    "        steps_per_epoch=len(df_train) // batch_size,\n",
    "        epochs=epochs,\n",
    "        callbacks=[checkpoint],\n",
    "        validation_data=test_generator,\n",
    "        validation_steps=len(df_test) // batch_size\n",
    "    )\n",
    "    \n",
    "    model_atten_8_dice,model_atten_8_thin_dice,model_atten_8_thick_dice = evaluate(model_atten_8,512,None,None,None)"
   ]
  },
  {
   "cell_type": "code",
   "execution_count": null,
   "id": "d911fcf7",
   "metadata": {},
   "outputs": [],
   "source": [
    "model_atten_8_dice"
   ]
  },
  {
   "cell_type": "code",
   "execution_count": null,
   "id": "f1881bd4",
   "metadata": {},
   "outputs": [],
   "source": [
    "model_atten_8_thin_dice"
   ]
  },
  {
   "cell_type": "code",
   "execution_count": null,
   "id": "f0bbbd35",
   "metadata": {},
   "outputs": [],
   "source": [
    "model_atten_8_thick_dice"
   ]
  },
  {
   "cell_type": "code",
   "execution_count": null,
   "id": "4392d6ff",
   "metadata": {},
   "outputs": [],
   "source": []
  },
  {
   "cell_type": "markdown",
   "id": "18351235",
   "metadata": {},
   "source": [
    "# Simple Net (Filters=16)"
   ]
  },
  {
   "cell_type": "code",
   "execution_count": null,
   "id": "3d89c051",
   "metadata": {},
   "outputs": [],
   "source": [
    "f = 16\n",
    "num_blocks = 8"
   ]
  },
  {
   "cell_type": "code",
   "execution_count": null,
   "id": "30350f64",
   "metadata": {},
   "outputs": [],
   "source": [
    "def simple_net_16(input_shape = (None, None, 3)):\n",
    "    inputs = Input(input_shape)\n",
    "    x = Conv2D(filters = f, kernel_size = (3,3), padding = 'same', activation = 'relu')(inputs)\n",
    "    x = BatchNormalization()(x)\n",
    "    \n",
    "    for i in range(num_blocks):\n",
    "        x = block(x,f)\n",
    "        \n",
    "        if i == 3 or i == 7:\n",
    "            x = BatchNormalization()(x)\n",
    "  \n",
    "    outputs = Conv2D(filters = 1, kernel_size = (1,1), activation = \"sigmoid\")(x)\n",
    "\n",
    "    return Model(inputs=[inputs], outputs = [outputs])"
   ]
  },
  {
   "cell_type": "code",
   "execution_count": null,
   "id": "6c43ac42",
   "metadata": {},
   "outputs": [],
   "source": [
    "epochs=50"
   ]
  },
  {
   "cell_type": "code",
   "execution_count": null,
   "id": "63fcf0d8",
   "metadata": {},
   "outputs": [],
   "source": [
    "for i in range(5):\n",
    "    filepath = f\"G:\\\\Harsh_Birva_minor_Proj\\\\new_retina_models_5\\\\simplenet_16-{i+1}.keras\"\n",
    "\n",
    "    checkpoint = ModelCheckpoint(filepath, \n",
    "                             verbose=1 \n",
    "                             )\n",
    "    \n",
    "    simplenet_16 = simple_net_16(input_shape = (None,None,3))\n",
    "    simplenet_16.compile(optimizer='adam', loss=dice_coeff_loss, metrics=[dice_coeff])\n",
    "    \n",
    "    history = simplenet_16.fit(\n",
    "        train_generator,\n",
    "        steps_per_epoch=len(df_train) // batch_size,\n",
    "        epochs=epochs,\n",
    "        callbacks=[checkpoint],\n",
    "        validation_data=test_generator,\n",
    "        validation_steps=len(df_test) // batch_size\n",
    "    )\n",
    "    \n",
    "    simplenet_16_dice,simplenet_16_thin_dice,simplenet_16_thick_dice = evaluate(simplenet_16,512,None,None,None)"
   ]
  },
  {
   "cell_type": "code",
   "execution_count": null,
   "id": "3c83bdb2",
   "metadata": {},
   "outputs": [],
   "source": [
    "simplenet_16_dice"
   ]
  },
  {
   "cell_type": "code",
   "execution_count": null,
   "id": "4ae9ab53",
   "metadata": {},
   "outputs": [],
   "source": [
    "simplenet_16_thin_dice"
   ]
  },
  {
   "cell_type": "code",
   "execution_count": null,
   "id": "90ce83b4",
   "metadata": {},
   "outputs": [],
   "source": [
    "simplenet_16_thick_dice"
   ]
  },
  {
   "cell_type": "code",
   "execution_count": null,
   "id": "7fa7adc7",
   "metadata": {},
   "outputs": [],
   "source": []
  },
  {
   "cell_type": "markdown",
   "id": "599085ef",
   "metadata": {},
   "source": [
    "# Simple Net (Filters=8)"
   ]
  },
  {
   "cell_type": "code",
   "execution_count": null,
   "id": "3ceab441",
   "metadata": {},
   "outputs": [],
   "source": [
    "f = 8\n",
    "num_blocks = 8"
   ]
  },
  {
   "cell_type": "code",
   "execution_count": null,
   "id": "f5ad68e5",
   "metadata": {},
   "outputs": [],
   "source": [
    "def simple_net_8(input_shape = (None, None, 3)):\n",
    "    inputs = Input(input_shape)\n",
    "    x = Conv2D(filters = f, kernel_size = (3,3), padding = 'same', activation = 'relu')(inputs)\n",
    "    x = BatchNormalization()(x)\n",
    "    \n",
    "    for i in range(num_blocks):\n",
    "        x = block(x,f)\n",
    "        \n",
    "        if i == 3 or i == 7:\n",
    "            x = BatchNormalization()(x)\n",
    "  \n",
    "    outputs = Conv2D(filters = 1, kernel_size = (1,1), activation = \"sigmoid\")(x)\n",
    "\n",
    "    return Model(inputs=[inputs], outputs = [outputs])"
   ]
  },
  {
   "cell_type": "code",
   "execution_count": null,
   "id": "9a533e25",
   "metadata": {},
   "outputs": [],
   "source": [
    "epochs=50"
   ]
  },
  {
   "cell_type": "code",
   "execution_count": null,
   "id": "6a54db87",
   "metadata": {},
   "outputs": [],
   "source": [
    "for i in range(5):\n",
    "    filepath = f\"G:\\\\Harsh_Birva_minor_Proj\\\\new_retina_models_5\\\\simplenet_8-{i+1}.keras\"\n",
    "\n",
    "    checkpoint = ModelCheckpoint(filepath, \n",
    "                             verbose=1 \n",
    "                             )\n",
    "    \n",
    "    simplenet_8 = simple_net_8(input_shape = (None,None,3))\n",
    "    simplenet_8.compile(optimizer='adam', loss=dice_coeff_loss, metrics=[dice_coeff])\n",
    "    \n",
    "    history = simplenet_8.fit(\n",
    "        train_generator,\n",
    "        steps_per_epoch=len(df_train) // batch_size,\n",
    "        epochs=epochs,\n",
    "        callbacks=[checkpoint],\n",
    "        validation_data=test_generator,\n",
    "        validation_steps=len(df_test) // batch_size\n",
    "    )\n",
    "    \n",
    "    simplenet_8_dice,simplenet_8_thin_dice,simplenet_8_thick_dice = evaluate(simplenet_8,512,None,None,None)"
   ]
  },
  {
   "cell_type": "code",
   "execution_count": null,
   "id": "3ea11dc4",
   "metadata": {},
   "outputs": [],
   "source": [
    "simplenet_8_dice"
   ]
  },
  {
   "cell_type": "code",
   "execution_count": null,
   "id": "d68d0811",
   "metadata": {},
   "outputs": [],
   "source": [
    "simplenet_8_thin_dice"
   ]
  },
  {
   "cell_type": "code",
   "execution_count": null,
   "id": "477bfb26",
   "metadata": {},
   "outputs": [],
   "source": [
    "simplenet_8_thick_dice"
   ]
  },
  {
   "cell_type": "code",
   "execution_count": null,
   "id": "6858a083",
   "metadata": {},
   "outputs": [],
   "source": []
  },
  {
   "cell_type": "markdown",
   "id": "78a0139b",
   "metadata": {},
   "source": [
    "# DeepLabv3+"
   ]
  },
  {
   "cell_type": "code",
   "execution_count": null,
   "id": "22625fee",
   "metadata": {},
   "outputs": [],
   "source": [
    "import DIFF_MODELS_2D as deeplab"
   ]
  },
  {
   "cell_type": "code",
   "execution_count": null,
   "id": "2efdadb7",
   "metadata": {},
   "outputs": [],
   "source": [
    "epochs=50"
   ]
  },
  {
   "cell_type": "code",
   "execution_count": null,
   "id": "0217126b",
   "metadata": {},
   "outputs": [],
   "source": [
    "for i in range(5):\n",
    "    filepath = f\"G:\\\\Harsh_Birva_minor_Proj\\\\new_retina_models_5\\\\deeplab-{i+1}.keras\"\n",
    "\n",
    "    checkpoint = ModelCheckpoint(filepath, \n",
    "                             verbose=1 \n",
    "                             )\n",
    "    \n",
    "    deeplab_model = deeplab.deeplabv3_plus()\n",
    "    ADAM = Adam(learning_rate=0.001, clipnorm=1., clipvalue=0.5)  \n",
    "    deeplab_model.compile(optimizer=ADAM, loss=dice_coeff_loss, metrics=[dice_coeff])\n",
    "    \n",
    "    history = deeplab_model.fit(\n",
    "        train_generator,\n",
    "        steps_per_epoch=len(df_train) // batch_size,\n",
    "        epochs=epochs,\n",
    "        callbacks=[checkpoint],\n",
    "        validation_data=test_generator,\n",
    "        validation_steps=len(df_test) // batch_size\n",
    "    )\n",
    "    \n",
    "    deeplab_dice,deeplab_thin_dice,deeplab_thick_dice = evaluate(deeplab_model,512,None,None,None)"
   ]
  },
  {
   "cell_type": "code",
   "execution_count": null,
   "id": "2e0bc892",
   "metadata": {},
   "outputs": [],
   "source": [
    "deeplab_dice"
   ]
  },
  {
   "cell_type": "code",
   "execution_count": null,
   "id": "5fc4fb96",
   "metadata": {},
   "outputs": [],
   "source": [
    "deeplab_thin_dice"
   ]
  },
  {
   "cell_type": "code",
   "execution_count": null,
   "id": "4383f4ee",
   "metadata": {},
   "outputs": [],
   "source": [
    "deeplab_thick_dice"
   ]
  },
  {
   "cell_type": "code",
   "execution_count": null,
   "id": "86ca8738",
   "metadata": {},
   "outputs": [],
   "source": []
  },
  {
   "cell_type": "markdown",
   "id": "cc5f4b6f",
   "metadata": {},
   "source": [
    "# Pocketnet (Filters = 16)"
   ]
  },
  {
   "cell_type": "code",
   "execution_count": null,
   "id": "4a2580d2",
   "metadata": {},
   "outputs": [],
   "source": [
    "pocketnet_16 = models.att_unet_2d((None,None,3), filter_num = [16,16,16,16],\n",
    "                                       n_labels = 1,\n",
    "                                       stack_num_down = 2, stack_num_up = 2,\n",
    "                                       activation = 'ReLU',\n",
    "                                       output_activation = 'Sigmoid',\n",
    "                                       atten_activation='ReLU', attention='add',\n",
    "                                       pool=True, unpool=True,\n",
    "                                       batch_norm = True)"
   ]
  },
  {
   "cell_type": "code",
   "execution_count": null,
   "id": "486d5ff7",
   "metadata": {},
   "outputs": [],
   "source": [
    "pocketnet_16.summary()"
   ]
  },
  {
   "cell_type": "code",
   "execution_count": null,
   "id": "01632ce7",
   "metadata": {},
   "outputs": [],
   "source": [
    "epochs = 50"
   ]
  },
  {
   "cell_type": "code",
   "execution_count": null,
   "id": "d2548a98",
   "metadata": {},
   "outputs": [],
   "source": [
    "for i in range(5):\n",
    "    pocketnet_16 = models.att_unet_2d((None,None,3), filter_num = [16,16,16,16],\n",
    "                                       n_labels = 1,\n",
    "                                       stack_num_down = 2, stack_num_up = 2,\n",
    "                                       activation = 'ReLU',\n",
    "                                       output_activation = 'Sigmoid',\n",
    "                                       atten_activation='ReLU', attention='add',\n",
    "                                       pool=True, unpool=True,\n",
    "                                       batch_norm = True)\n",
    "    \n",
    "    filepath = f\"G:\\\\Harsh_Birva_minor_Proj\\\\new_retina_models_5\\\\pocketnet_16-{i+1}.keras\"\n",
    "\n",
    "    checkpoint = ModelCheckpoint(filepath, \n",
    "                             verbose=1 \n",
    "                             )\n",
    "    \n",
    "    pocketnet_16.compile(optimizer='adam', loss=dice_coeff_loss, metrics=[dice_coeff])\n",
    "    \n",
    "    history = pocketnet_16.fit(\n",
    "        train_generator,\n",
    "        steps_per_epoch=len(df_train) // batch_size,\n",
    "        epochs=epochs,\n",
    "        callbacks=[checkpoint],\n",
    "        validation_data=test_generator,\n",
    "        validation_steps=len(df_test) // batch_size\n",
    "    )\n",
    "    \n",
    "    pocketnet_16_dice,pocketnet_16_thin_dice,pocketnet_16_thick_dice = evaluate(pocketnet_16,512,None,None,None)"
   ]
  },
  {
   "cell_type": "code",
   "execution_count": null,
   "id": "f405a643",
   "metadata": {},
   "outputs": [],
   "source": [
    "np.mean(pocketnet_16_dice)"
   ]
  },
  {
   "cell_type": "code",
   "execution_count": null,
   "id": "51d60533",
   "metadata": {},
   "outputs": [],
   "source": [
    "np.mean(pocketnet_16_thin_dice)"
   ]
  },
  {
   "cell_type": "code",
   "execution_count": null,
   "id": "2bd9b17d",
   "metadata": {},
   "outputs": [],
   "source": [
    "np.mean(pocketnet_16_thick_dice)"
   ]
  },
  {
   "cell_type": "code",
   "execution_count": null,
   "id": "270b79c4",
   "metadata": {},
   "outputs": [],
   "source": []
  },
  {
   "cell_type": "markdown",
   "id": "a95c7979",
   "metadata": {},
   "source": [
    "# Resnet Type Net (Filters=16)"
   ]
  },
  {
   "cell_type": "code",
   "execution_count": null,
   "id": "a9bb97e5",
   "metadata": {},
   "outputs": [],
   "source": [
    "def encoder_block(inputs, filters):\n",
    "    conv = Conv2D(filters, kernel_size = (3,3), padding=\"same\", activation = 'relu')(inputs)\n",
    "    conv = Conv2D(filters, kernel_size = (3,3), padding=\"same\", activation = 'relu')(conv)\n",
    "    pool = MaxPooling2D(pool_size=(2,2))(conv)\n",
    "\n",
    "    return pool,conv\n",
    "\n",
    "def decoder_block(inputs, filters, x):\n",
    "    up = Conv2DTranspose(filters, kernel_size=(2, 2), strides=(2, 2), padding=\"same\")(inputs)\n",
    "    conv = Conv2D(filters, kernel_size = (3,3), padding=\"same\", activation = 'relu')(up)\n",
    "    conv = Conv2D(filters, kernel_size = (3,3), padding=\"same\", activation = 'relu')(conv)\n",
    "\n",
    "    if x is not None:\n",
    "        x = BatchNormalization()(x)\n",
    "        conv = BatchNormalization()(conv)\n",
    "        conv = add([x, conv])\n",
    "\n",
    "    return conv"
   ]
  },
  {
   "cell_type": "code",
   "execution_count": null,
   "id": "956aff1a",
   "metadata": {},
   "outputs": [],
   "source": [
    "def u_block(inputs, filters):\n",
    "    b1,c1 = encoder_block(inputs, filters)\n",
    "    b2,c2 = encoder_block(b1, filters)\n",
    "\n",
    "    conv = Conv2D(filters, kernel_size = (3,3), padding=\"same\", activation = 'relu')(b2)\n",
    "    conv = Conv2D(filters, kernel_size = (3,3), padding=\"same\", activation = 'relu')(conv)\n",
    "\n",
    "    b4 = decoder_block(conv, filters,None)\n",
    "    b5 = decoder_block(b4, filters, c1)\n",
    "\n",
    "    return b5"
   ]
  },
  {
   "cell_type": "code",
   "execution_count": null,
   "id": "a69ac73c",
   "metadata": {},
   "outputs": [],
   "source": [
    "f = 16\n",
    "num_blocks = 4"
   ]
  },
  {
   "cell_type": "code",
   "execution_count": null,
   "id": "d65b73e6",
   "metadata": {},
   "outputs": [],
   "source": [
    "def res_type_16(input_shape = (None, None, 3)):\n",
    "\n",
    "    inputs = Input(input_shape)\n",
    "    x = Conv2D(filters = f, kernel_size = (3,3), padding = 'same', activation = 'relu')(inputs)\n",
    "    x = BatchNormalization()(x)\n",
    "\n",
    "    for i in range(num_blocks):\n",
    "        x = u_block(x,f)\n",
    "        b = Conv2D(filters = f, kernel_size = (3,3), padding = 'same', activation = 'relu')(inputs)\n",
    "        b = BatchNormalization()(b)\n",
    "        x = add([x, b])\n",
    "    \n",
    "    outputs = Conv2D(filters = 1, kernel_size = (1,1), activation = \"sigmoid\")(x)\n",
    "    \n",
    "    return Model(inputs=[inputs], outputs = [outputs])"
   ]
  },
  {
   "cell_type": "code",
   "execution_count": null,
   "id": "0ba74aea",
   "metadata": {},
   "outputs": [],
   "source": [
    "epochs=50"
   ]
  },
  {
   "cell_type": "code",
   "execution_count": null,
   "id": "c47b9194",
   "metadata": {},
   "outputs": [],
   "source": [
    "for i in range(5):\n",
    "    filepath = f\"G:\\\\Harsh_Birva_minor_Proj\\\\new_retina_models_5\\\\restype_16-{i+1}.keras\"\n",
    "\n",
    "    checkpoint = ModelCheckpoint(filepath, \n",
    "                             verbose=1 \n",
    "                             )\n",
    "    \n",
    "    restype_16 = res_type_16(input_shape = (None,None,3))\n",
    "    restype_16.compile(optimizer='adam', loss=dice_coeff_loss, metrics=[dice_coeff])\n",
    "    \n",
    "    history = restype_16.fit(\n",
    "        train_generator,\n",
    "        steps_per_epoch=len(df_train) // batch_size,\n",
    "        epochs=epochs,\n",
    "        callbacks=[checkpoint],\n",
    "        validation_data=test_generator,\n",
    "        validation_steps=len(df_test) // batch_size\n",
    "    )\n",
    "    \n",
    "    restype_16_dice,restype_16_thin_dice,restype_16_thick_dice = evaluate(restype_16,512,None,None,None)"
   ]
  },
  {
   "cell_type": "code",
   "execution_count": null,
   "id": "db6beed8",
   "metadata": {},
   "outputs": [],
   "source": [
    "np.mean(restype_16_dice)"
   ]
  },
  {
   "cell_type": "code",
   "execution_count": null,
   "id": "273bd4c1",
   "metadata": {},
   "outputs": [],
   "source": [
    "np.mean(restype_16_thin_dice)"
   ]
  },
  {
   "cell_type": "code",
   "execution_count": null,
   "id": "1d815d79",
   "metadata": {},
   "outputs": [],
   "source": [
    "np.mean(restype_16_thick_dice)"
   ]
  },
  {
   "cell_type": "code",
   "execution_count": null,
   "id": "616e3fe5",
   "metadata": {},
   "outputs": [],
   "source": []
  },
  {
   "cell_type": "markdown",
   "id": "0a4cd1aa",
   "metadata": {},
   "source": [
    "# MyNet (Filters=32)"
   ]
  },
  {
   "cell_type": "code",
   "execution_count": null,
   "id": "97fdf98b",
   "metadata": {},
   "outputs": [],
   "source": [
    "f = 32\n",
    "num_blocks = 8"
   ]
  },
  {
   "cell_type": "code",
   "execution_count": null,
   "id": "74c6e9af",
   "metadata": {},
   "outputs": [],
   "source": [
    "def my_net_32(input_shape = (None, None, 3)):\n",
    "    inputs = Input(input_shape)\n",
    "    x = Conv2D(filters = f, kernel_size = (3,3), padding = 'same', activation = 'relu')(inputs)\n",
    "    x = BatchNormalization()(x)\n",
    "    \n",
    "    for i in range(num_blocks):\n",
    "        x = block(x,f)\n",
    "        \n",
    "        if i == 3 or i == 7:\n",
    "            x = BatchNormalization()(x)\n",
    "            b = Conv2D(filters = f, kernel_size = (3,3), padding = 'same', activation = 'relu')(inputs)\n",
    "            b = BatchNormalization()(b)\n",
    "            x = add([x, b])\n",
    "  \n",
    "    outputs = Conv2D(filters = 1, kernel_size = (1,1), activation = \"sigmoid\")(x)\n",
    "\n",
    "    return Model(inputs=[inputs], outputs = [outputs])"
   ]
  },
  {
   "cell_type": "code",
   "execution_count": null,
   "id": "a1b29682",
   "metadata": {},
   "outputs": [],
   "source": [
    "epochs=50"
   ]
  },
  {
   "cell_type": "code",
   "execution_count": null,
   "id": "28fec537",
   "metadata": {},
   "outputs": [],
   "source": [
    "for i in range(5):\n",
    "    filepath = f\"G:\\\\Harsh_Birva_minor_Proj\\\\new_retina_models_5\\\\mynet_32-{i+1}.keras\"\n",
    "\n",
    "    checkpoint = ModelCheckpoint(filepath, \n",
    "                             verbose=1 \n",
    "                             )\n",
    "    \n",
    "    mynet_32 = my_net_32(input_shape = (None,None,3))\n",
    "    mynet_32.compile(optimizer='adam', loss=dice_coeff_loss, metrics=[dice_coeff])\n",
    "    \n",
    "    history = mynet_32.fit(\n",
    "        train_generator,\n",
    "        steps_per_epoch=len(df_train) // batch_size,\n",
    "        epochs=epochs,\n",
    "        callbacks=[checkpoint],\n",
    "        validation_data=test_generator,\n",
    "        validation_steps=len(df_test) // batch_size\n",
    "    )\n",
    "    \n",
    "    mynet_32_dice,mynet_32_thin_dice,mynet_32_thick_dice = evaluate(mynet_32,512,None,None,None)"
   ]
  },
  {
   "cell_type": "code",
   "execution_count": null,
   "id": "ef3b0779",
   "metadata": {},
   "outputs": [],
   "source": [
    "np.mean(mynet_32_dice)"
   ]
  },
  {
   "cell_type": "code",
   "execution_count": null,
   "id": "dc76f261",
   "metadata": {},
   "outputs": [],
   "source": [
    "np.mean(mynet_32_thin_dice)"
   ]
  },
  {
   "cell_type": "code",
   "execution_count": null,
   "id": "c259e64e",
   "metadata": {},
   "outputs": [],
   "source": [
    "np.mean(mynet_32_thick_dice)"
   ]
  },
  {
   "cell_type": "code",
   "execution_count": null,
   "id": "ab2a5856",
   "metadata": {},
   "outputs": [],
   "source": []
  },
  {
   "cell_type": "markdown",
   "id": "50cc1f83",
   "metadata": {},
   "source": [
    "# MyNet (Filters=16) 16 blocks"
   ]
  },
  {
   "cell_type": "code",
   "execution_count": null,
   "id": "3706bd78",
   "metadata": {},
   "outputs": [],
   "source": [
    "f = 16\n",
    "num_blocks = 16"
   ]
  },
  {
   "cell_type": "code",
   "execution_count": null,
   "id": "98946767",
   "metadata": {},
   "outputs": [],
   "source": [
    "def my_net_16_16b(input_shape = (None, None, 3)):\n",
    "    inputs = Input(input_shape)\n",
    "    x = Conv2D(filters = f, kernel_size = (3,3), padding = 'same', activation = 'relu')(inputs)\n",
    "    x = BatchNormalization()(x)\n",
    "    \n",
    "    for i in range(num_blocks):\n",
    "        x = block(x,f)\n",
    "        \n",
    "        if i == 7 or i == 11 or i == 15:\n",
    "            x = BatchNormalization()(x)\n",
    "            b = Conv2D(filters = f, kernel_size = (3,3), padding = 'same', activation = 'relu')(inputs)\n",
    "            b = BatchNormalization()(b)\n",
    "            x = add([x, b])\n",
    "  \n",
    "    outputs = Conv2D(filters = 1, kernel_size = (1,1), activation = \"sigmoid\")(x)\n",
    "\n",
    "    return Model(inputs=[inputs], outputs = [outputs])"
   ]
  },
  {
   "cell_type": "code",
   "execution_count": null,
   "id": "bf9b0b51",
   "metadata": {},
   "outputs": [],
   "source": [
    "epochs=50"
   ]
  },
  {
   "cell_type": "code",
   "execution_count": null,
   "id": "7fdaf4d6",
   "metadata": {},
   "outputs": [],
   "source": [
    "for i in range(5):\n",
    "    filepath = f\"G:\\\\Harsh_Birva_minor_Proj\\\\new_retina_models_5\\\\mynet_16_16b-{i+1}.keras\"\n",
    "\n",
    "    checkpoint = ModelCheckpoint(filepath, \n",
    "                             verbose=1 \n",
    "                             )\n",
    "    \n",
    "    mynet_16_16b = my_net_16_16b(input_shape = (None,None,3))\n",
    "    mynet_16_16b.compile(optimizer='adam', loss=dice_coeff_loss, metrics=[dice_coeff])\n",
    "    \n",
    "    history = mynet_16_16b.fit(\n",
    "        train_generator,\n",
    "        steps_per_epoch=len(df_train) // batch_size,\n",
    "        epochs=epochs,\n",
    "        callbacks=[checkpoint],\n",
    "        validation_data=test_generator,\n",
    "        validation_steps=len(df_test) // batch_size\n",
    "    )\n",
    "    \n",
    "    mynet_16_16b_dice,mynet_16_16b_thin_dice,mynet_16_16b_thick_dice = evaluate(mynet_16_16b,512,None,None,None)"
   ]
  },
  {
   "cell_type": "code",
   "execution_count": null,
   "id": "30a27087",
   "metadata": {},
   "outputs": [],
   "source": [
    "np.mean(mynet_16_16b_dice)"
   ]
  },
  {
   "cell_type": "code",
   "execution_count": null,
   "id": "be77d009",
   "metadata": {},
   "outputs": [],
   "source": [
    "np.mean(mynet_16_16b_thin_dice)"
   ]
  },
  {
   "cell_type": "code",
   "execution_count": null,
   "id": "039440f5",
   "metadata": {},
   "outputs": [],
   "source": [
    "np.mean(mynet_16_16b_thick_dice)"
   ]
  },
  {
   "cell_type": "code",
   "execution_count": null,
   "id": "2a0de21f",
   "metadata": {},
   "outputs": [],
   "source": []
  },
  {
   "cell_type": "markdown",
   "id": "93bbddf8",
   "metadata": {},
   "source": [
    "# MyNet (Filters=8) 16 blocks"
   ]
  },
  {
   "cell_type": "code",
   "execution_count": null,
   "id": "36e9a6dd",
   "metadata": {},
   "outputs": [],
   "source": [
    "f = 8\n",
    "num_blocks = 16"
   ]
  },
  {
   "cell_type": "code",
   "execution_count": null,
   "id": "899629a5",
   "metadata": {},
   "outputs": [],
   "source": [
    "def my_net_8_16b(input_shape = (None, None, 3)):\n",
    "    inputs = Input(input_shape)\n",
    "    x = Conv2D(filters = f, kernel_size = (3,3), padding = 'same', activation = 'relu')(inputs)\n",
    "    x = BatchNormalization()(x)\n",
    "    \n",
    "    for i in range(num_blocks):\n",
    "        x = block(x,f)\n",
    "        \n",
    "        if i == 7 or i == 11 or i == 15:\n",
    "            x = BatchNormalization()(x)\n",
    "            b = Conv2D(filters = f, kernel_size = (3,3), padding = 'same', activation = 'relu')(inputs)\n",
    "            b = BatchNormalization()(b)\n",
    "            x = add([x, b])\n",
    "  \n",
    "    outputs = Conv2D(filters = 1, kernel_size = (1,1), activation = \"sigmoid\")(x)\n",
    "\n",
    "    return Model(inputs=[inputs], outputs = [outputs])"
   ]
  },
  {
   "cell_type": "code",
   "execution_count": null,
   "id": "8b10965f",
   "metadata": {},
   "outputs": [],
   "source": [
    "epochs=50"
   ]
  },
  {
   "cell_type": "code",
   "execution_count": null,
   "id": "261f7604",
   "metadata": {},
   "outputs": [],
   "source": [
    "for i in range(5):\n",
    "    filepath = f\"G:\\\\Harsh_Birva_minor_Proj\\\\new_retina_models_5\\\\mynet_8_16b-{i+1}.keras\"\n",
    "\n",
    "    checkpoint = ModelCheckpoint(filepath, \n",
    "                             verbose=1 \n",
    "                             )\n",
    "    \n",
    "    mynet_8_16b = my_net_8_16b(input_shape = (None,None,3))\n",
    "    mynet_8_16b.compile(optimizer='adam', loss=dice_coeff_loss, metrics=[dice_coeff])\n",
    "    \n",
    "    history = mynet_8_16b.fit(\n",
    "        train_generator,\n",
    "        steps_per_epoch=len(df_train) // batch_size,\n",
    "        epochs=epochs,\n",
    "        callbacks=[checkpoint],\n",
    "        validation_data=test_generator,\n",
    "        validation_steps=len(df_test) // batch_size\n",
    "    )\n",
    "    \n",
    "    mynet_8_16b_dice,mynet_8_16b_thin_dice,mynet_8_16b_thick_dice = evaluate(mynet_8_16b,512,None,None,None)"
   ]
  },
  {
   "cell_type": "code",
   "execution_count": null,
   "id": "34e366c1",
   "metadata": {},
   "outputs": [],
   "source": [
    "np.mean(mynet_8_16b_dice)"
   ]
  },
  {
   "cell_type": "code",
   "execution_count": null,
   "id": "510f29c7",
   "metadata": {},
   "outputs": [],
   "source": [
    "np.mean(mynet_8_16b_thin_dice)"
   ]
  },
  {
   "cell_type": "code",
   "execution_count": null,
   "id": "31e74829",
   "metadata": {},
   "outputs": [],
   "source": [
    "np.mean(mynet_8_16b_thick_dice)"
   ]
  },
  {
   "cell_type": "markdown",
   "id": "e1b256c8",
   "metadata": {},
   "source": [
    "# Simple Net (Filters=32)"
   ]
  },
  {
   "cell_type": "code",
   "execution_count": null,
   "id": "dd429743",
   "metadata": {},
   "outputs": [],
   "source": [
    "f = 32\n",
    "num_blocks = 8"
   ]
  },
  {
   "cell_type": "code",
   "execution_count": null,
   "id": "3300e1a4",
   "metadata": {},
   "outputs": [],
   "source": [
    "def simple_net_32(input_shape = (None, None, 3)):\n",
    "    inputs = Input(input_shape)\n",
    "    x = Conv2D(filters = f, kernel_size = (3,3), padding = 'same', activation = 'relu')(inputs)\n",
    "    x = BatchNormalization()(x)\n",
    "    \n",
    "    for i in range(num_blocks):\n",
    "        x = block(x,f)\n",
    "        \n",
    "        if i == 3 or i == 7:\n",
    "            x = BatchNormalization()(x)\n",
    "  \n",
    "    outputs = Conv2D(filters = 1, kernel_size = (1,1), activation = \"sigmoid\")(x)\n",
    "\n",
    "    return Model(inputs=[inputs], outputs = [outputs])"
   ]
  },
  {
   "cell_type": "code",
   "execution_count": null,
   "id": "5f8f1ddc",
   "metadata": {},
   "outputs": [],
   "source": [
    "epochs=50"
   ]
  },
  {
   "cell_type": "code",
   "execution_count": null,
   "id": "6b6c58a5",
   "metadata": {},
   "outputs": [],
   "source": [
    "for i in range(5):\n",
    "    filepath = f\"G:\\\\Harsh_Birva_minor_Proj\\\\new_retina_models_5\\\\simplenet_32-{i+1}.keras\"\n",
    "\n",
    "    checkpoint = ModelCheckpoint(filepath, \n",
    "                             verbose=1 \n",
    "                             )\n",
    "    \n",
    "    simplenet_32 = simple_net_32(input_shape = (None,None,3))\n",
    "    simplenet_32.compile(optimizer='adam', loss=dice_coeff_loss, metrics=[dice_coeff])\n",
    "    \n",
    "    history = simplenet_32.fit(\n",
    "        train_generator,\n",
    "        steps_per_epoch=len(df_train) // batch_size,\n",
    "        epochs=epochs,\n",
    "        callbacks=[checkpoint],\n",
    "        validation_data=test_generator,\n",
    "        validation_steps=len(df_test) // batch_size\n",
    "    )\n",
    "    \n",
    "    simplenet_32_dice,simplenet_32_thin_dice,simplenet_32_thick_dice = evaluate(simplenet_32,512,None,None,None)"
   ]
  },
  {
   "cell_type": "code",
   "execution_count": null,
   "id": "420bbff3",
   "metadata": {},
   "outputs": [],
   "source": [
    "np.mean(simplenet_32_dice)"
   ]
  },
  {
   "cell_type": "code",
   "execution_count": null,
   "id": "81b372a5",
   "metadata": {},
   "outputs": [],
   "source": [
    "np.mean(simplenet_32_thin_dice)"
   ]
  },
  {
   "cell_type": "code",
   "execution_count": null,
   "id": "7ddfde16",
   "metadata": {},
   "outputs": [],
   "source": [
    "np.mean(simplenet_32_thick_dice)"
   ]
  },
  {
   "cell_type": "code",
   "execution_count": null,
   "id": "01eadaa8",
   "metadata": {},
   "outputs": [],
   "source": []
  },
  {
   "cell_type": "markdown",
   "id": "5ec4f446",
   "metadata": {},
   "source": [
    "# Simple Net (Filters=16) 16 blocks"
   ]
  },
  {
   "cell_type": "code",
   "execution_count": null,
   "id": "a1de7748",
   "metadata": {},
   "outputs": [],
   "source": [
    "f = 16\n",
    "num_blocks = 16"
   ]
  },
  {
   "cell_type": "code",
   "execution_count": null,
   "id": "8af4573c",
   "metadata": {},
   "outputs": [],
   "source": [
    "def simple_net_16_16b(input_shape = (None, None, 3)):\n",
    "    inputs = Input(input_shape)\n",
    "    x = Conv2D(filters = f, kernel_size = (3,3), padding = 'same', activation = 'relu')(inputs)\n",
    "    x = BatchNormalization()(x)\n",
    "    \n",
    "    for i in range(num_blocks):\n",
    "        x = block(x,f)\n",
    "        \n",
    "        if i == 7 or i == 11 or i == 15:\n",
    "            x = BatchNormalization()(x)\n",
    "  \n",
    "    outputs = Conv2D(filters = 1, kernel_size = (1,1), activation = \"sigmoid\")(x)\n",
    "\n",
    "    return Model(inputs=[inputs], outputs = [outputs])"
   ]
  },
  {
   "cell_type": "code",
   "execution_count": null,
   "id": "bb560f52",
   "metadata": {},
   "outputs": [],
   "source": [
    "epochs=50"
   ]
  },
  {
   "cell_type": "code",
   "execution_count": null,
   "id": "5203248e",
   "metadata": {},
   "outputs": [],
   "source": [
    "for i in range(5):\n",
    "    filepath = f\"G:\\\\Harsh_Birva_minor_Proj\\\\new_retina_models_5\\\\simplenet_16_16b-{i+1}.keras\"\n",
    "\n",
    "    checkpoint = ModelCheckpoint(filepath, \n",
    "                             verbose=1 \n",
    "                             )\n",
    "    \n",
    "    simplenet_16_16b = simple_net_16_16b(input_shape = (None,None,3))\n",
    "    simplenet_16_16b.compile(optimizer='adam', loss=dice_coeff_loss, metrics=[dice_coeff])\n",
    "    \n",
    "    history = simplenet_16_16b.fit(\n",
    "        train_generator,\n",
    "        steps_per_epoch=len(df_train) // batch_size,\n",
    "        epochs=epochs,\n",
    "        callbacks=[checkpoint],\n",
    "        validation_data=test_generator,\n",
    "        validation_steps=len(df_test) // batch_size\n",
    "    )\n",
    "    \n",
    "    simplenet_16_16b_dice,simplenet_16_16b_thin_dice,simplenet_16_16b_thick_dice = evaluate(simplenet_16_16b,512,None,None,None)"
   ]
  },
  {
   "cell_type": "code",
   "execution_count": null,
   "id": "32b76bb5",
   "metadata": {},
   "outputs": [],
   "source": [
    "np.mean(simplenet_16_16b_dice)"
   ]
  },
  {
   "cell_type": "code",
   "execution_count": null,
   "id": "59f1bc19",
   "metadata": {},
   "outputs": [],
   "source": [
    "np.mean(simplenet_16_16b_thin_dice)"
   ]
  },
  {
   "cell_type": "code",
   "execution_count": null,
   "id": "06ab13e6",
   "metadata": {},
   "outputs": [],
   "source": [
    "np.mean(simplenet_16_16b_thick_dice)"
   ]
  },
  {
   "cell_type": "code",
   "execution_count": null,
   "id": "0d091280",
   "metadata": {},
   "outputs": [],
   "source": []
  },
  {
   "cell_type": "markdown",
   "id": "2dca5b9c",
   "metadata": {},
   "source": [
    "# Simple Net (Filters=8) 16 blocks"
   ]
  },
  {
   "cell_type": "code",
   "execution_count": null,
   "id": "496e7f6a",
   "metadata": {},
   "outputs": [],
   "source": [
    "f = 8\n",
    "num_blocks = 16"
   ]
  },
  {
   "cell_type": "code",
   "execution_count": null,
   "id": "8cccc13d",
   "metadata": {},
   "outputs": [],
   "source": [
    "def simple_net_8_16b(input_shape = (None, None, 3)):\n",
    "    inputs = Input(input_shape)\n",
    "    x = Conv2D(filters = f, kernel_size = (3,3), padding = 'same', activation = 'relu')(inputs)\n",
    "    x = BatchNormalization()(x)\n",
    "    \n",
    "    for i in range(num_blocks):\n",
    "        x = block(x,f)\n",
    "        \n",
    "        if i == 7 or i == 11 or i == 15:\n",
    "            x = BatchNormalization()(x)\n",
    "  \n",
    "    outputs = Conv2D(filters = 1, kernel_size = (1,1), activation = \"sigmoid\")(x)\n",
    "\n",
    "    return Model(inputs=[inputs], outputs = [outputs])"
   ]
  },
  {
   "cell_type": "code",
   "execution_count": null,
   "id": "50ca0bd1",
   "metadata": {},
   "outputs": [],
   "source": [
    "epochs=50"
   ]
  },
  {
   "cell_type": "code",
   "execution_count": null,
   "id": "8d9d8c86",
   "metadata": {},
   "outputs": [],
   "source": [
    "for i in range(5):\n",
    "    filepath = f\"G:\\\\Harsh_Birva_minor_Proj\\\\new_retina_models_5\\\\simplenet_8_16b-{i+1}.keras\"\n",
    "\n",
    "    checkpoint = ModelCheckpoint(filepath, \n",
    "                             verbose=1 \n",
    "                             )\n",
    "    \n",
    "    simplenet_8_16b = simple_net_8_16b(input_shape = (None,None,3))\n",
    "    simplenet_8_16b.compile(optimizer='adam', loss=dice_coeff_loss, metrics=[dice_coeff])\n",
    "    \n",
    "    history = simplenet_8_16b.fit(\n",
    "        train_generator,\n",
    "        steps_per_epoch=len(df_train) // batch_size,\n",
    "        epochs=epochs,\n",
    "        callbacks=[checkpoint],\n",
    "        validation_data=test_generator,\n",
    "        validation_steps=len(df_test) // batch_size\n",
    "    )\n",
    "    \n",
    "    simplenet_8_16b_dice,simplenet_8_16b_thin_dice,simplenet_8_16b_thick_dice = evaluate(simplenet_8_16b,512,None,None,None)"
   ]
  },
  {
   "cell_type": "code",
   "execution_count": null,
   "id": "0ab6de25",
   "metadata": {},
   "outputs": [],
   "source": [
    "np.mean(simplenet_8_16b_dice)"
   ]
  },
  {
   "cell_type": "code",
   "execution_count": null,
   "id": "fd03c851",
   "metadata": {},
   "outputs": [],
   "source": [
    "np.mean(simplenet_8_16b_thin_dice)"
   ]
  },
  {
   "cell_type": "code",
   "execution_count": null,
   "id": "c546a8a3",
   "metadata": {},
   "outputs": [],
   "source": [
    "np.mean(simplenet_8_16b_thick_dice)"
   ]
  },
  {
   "cell_type": "markdown",
   "id": "8b631498",
   "metadata": {},
   "source": [
    "# Separable Pocket Net"
   ]
  },
  {
   "cell_type": "code",
   "execution_count": 12,
   "id": "90b4e81d",
   "metadata": {},
   "outputs": [],
   "source": [
    "def encoder_block(inputs, filters):\n",
    "    conv = SeparableConv2D(filters, kernel_size = (3,3), padding=\"same\", activation = 'relu')(inputs)\n",
    "    conv = SeparableConv2D(filters, kernel_size = (3,3), padding=\"same\", activation = 'relu')(conv)\n",
    "    x = BatchNormalization()(conv)\n",
    "    pool = MaxPooling2D(pool_size=(2,2))(x)\n",
    "    \n",
    "    return pool,x\n",
    "\n",
    "def decoder_block(inputs, filters, x):\n",
    "    conv = SeparableConv2D(filters, kernel_size = (3,3), padding=\"same\", activation = 'relu')(inputs)\n",
    "    up = UpSampling2D((2, 2),interpolation='bilinear')(conv)\n",
    "    con = add([up, x])\n",
    "    conv = SeparableConv2D(filters, kernel_size = (3,3), padding=\"same\", activation = 'relu')(con)\n",
    "    conv = SeparableConv2D(filters, kernel_size = (3,3), padding=\"same\", activation = 'relu')(conv)\n",
    "    x = BatchNormalization()(conv)\n",
    "    \n",
    "    return x"
   ]
  },
  {
   "cell_type": "code",
   "execution_count": 13,
   "id": "17b22c16",
   "metadata": {},
   "outputs": [],
   "source": [
    "f = 16"
   ]
  },
  {
   "cell_type": "code",
   "execution_count": 14,
   "id": "a6e0b3ee",
   "metadata": {},
   "outputs": [],
   "source": [
    "def Separable_16(input_shape = (None, None, 3)):\n",
    "    inputs = Input(input_shape)\n",
    "    x = SeparableConv2D(filters = f, kernel_size = (3,3), padding = 'same', activation = 'relu')(inputs)\n",
    "    x = BatchNormalization()(x)\n",
    "    \n",
    "    b1,c1 = encoder_block(x, f)\n",
    "    b2,c2 = encoder_block(b1, f*2)\n",
    "    b3,c3 = encoder_block(b2, f*4)\n",
    "    b4,c4 = encoder_block(b3, f*8)\n",
    "\n",
    "    conv = SeparableConv2D(f*8, kernel_size = (3,3), padding=\"same\", activation = 'relu')(b4)\n",
    "    conv = SeparableConv2D(f*8, kernel_size = (3,3), padding=\"same\", activation = 'relu')(conv)\n",
    "\n",
    "    b4 = decoder_block(conv, f*8, c4)\n",
    "    b5 = decoder_block(b4, f*4, c3)\n",
    "    b6 = decoder_block(b5, f*2, c2)\n",
    "    b7 = decoder_block(b6, f, c1)\n",
    "    \n",
    "    outputs = Conv2D(filters = 1, kernel_size = (1,1), activation = \"sigmoid\")(b7)\n",
    "    \n",
    "    return Model(inputs=[inputs], outputs = [outputs])"
   ]
  },
  {
   "cell_type": "code",
   "execution_count": 15,
   "id": "d3aa145b",
   "metadata": {},
   "outputs": [],
   "source": [
    "filepath = f\"G:\\\\Harsh_Birva_minor_Proj\\\\new_retina_models_5\\\\separable_upsample_16.keras\"\n",
    "\n",
    "checkpoint = ModelCheckpoint(filepath, \n",
    "                             verbose=1 \n",
    "                             )"
   ]
  },
  {
   "cell_type": "code",
   "execution_count": 16,
   "id": "f71aa56c",
   "metadata": {},
   "outputs": [],
   "source": [
    "separable_16 = Separable_16(input_shape = (None,None,3))\n",
    "separable_16.compile(optimizer='adam', loss=dice_coeff_loss, metrics=[dice_coeff])"
   ]
  },
  {
   "cell_type": "code",
   "execution_count": 17,
   "id": "a6bc8057",
   "metadata": {},
   "outputs": [],
   "source": [
    "epochs = 50"
   ]
  },
  {
   "cell_type": "code",
   "execution_count": 18,
   "id": "0cfc76e5",
   "metadata": {},
   "outputs": [
    {
     "name": "stdout",
     "output_type": "stream",
     "text": [
      "Epoch 1/50\n",
      "75/75 [==============================] - ETA: 0s - loss: 0.7843 - dice_coeff: 0.2157\n",
      "Epoch 1: saving model to G:\\Harsh_Birva_minor_Proj\\new_retina_models_5\\separable_upsample_16.keras\n",
      "75/75 [==============================] - 111s 1s/step - loss: 0.7843 - dice_coeff: 0.2157 - val_loss: 0.8635 - val_dice_coeff: 0.1365\n",
      "Epoch 2/50\n",
      "75/75 [==============================] - ETA: 0s - loss: 0.5752 - dice_coeff: 0.4248\n",
      "Epoch 2: saving model to G:\\Harsh_Birva_minor_Proj\\new_retina_models_5\\separable_upsample_16.keras\n",
      "75/75 [==============================] - 109s 1s/step - loss: 0.5752 - dice_coeff: 0.4248 - val_loss: 0.9073 - val_dice_coeff: 0.0927\n",
      "Epoch 3/50\n",
      "75/75 [==============================] - ETA: 0s - loss: 0.3458 - dice_coeff: 0.6542\n",
      "Epoch 3: saving model to G:\\Harsh_Birva_minor_Proj\\new_retina_models_5\\separable_upsample_16.keras\n",
      "75/75 [==============================] - 120s 2s/step - loss: 0.3458 - dice_coeff: 0.6542 - val_loss: 0.9579 - val_dice_coeff: 0.0421\n",
      "Epoch 4/50\n",
      "75/75 [==============================] - ETA: 0s - loss: 0.2345 - dice_coeff: 0.7655\n",
      "Epoch 4: saving model to G:\\Harsh_Birva_minor_Proj\\new_retina_models_5\\separable_upsample_16.keras\n",
      "75/75 [==============================] - 104s 1s/step - loss: 0.2345 - dice_coeff: 0.7655 - val_loss: 0.9795 - val_dice_coeff: 0.0205\n",
      "Epoch 5/50\n",
      "75/75 [==============================] - ETA: 0s - loss: 0.1800 - dice_coeff: 0.8200\n",
      "Epoch 5: saving model to G:\\Harsh_Birva_minor_Proj\\new_retina_models_5\\separable_upsample_16.keras\n",
      "75/75 [==============================] - 104s 1s/step - loss: 0.1800 - dice_coeff: 0.8200 - val_loss: 0.9884 - val_dice_coeff: 0.0116\n",
      "Epoch 6/50\n",
      "75/75 [==============================] - ETA: 0s - loss: 0.1586 - dice_coeff: 0.8414\n",
      "Epoch 6: saving model to G:\\Harsh_Birva_minor_Proj\\new_retina_models_5\\separable_upsample_16.keras\n",
      "75/75 [==============================] - 119s 2s/step - loss: 0.1586 - dice_coeff: 0.8414 - val_loss: 0.9932 - val_dice_coeff: 0.0068\n",
      "Epoch 7/50\n",
      "75/75 [==============================] - ETA: 0s - loss: 0.1450 - dice_coeff: 0.8550\n",
      "Epoch 7: saving model to G:\\Harsh_Birva_minor_Proj\\new_retina_models_5\\separable_upsample_16.keras\n",
      "75/75 [==============================] - 119s 2s/step - loss: 0.1450 - dice_coeff: 0.8550 - val_loss: 0.9880 - val_dice_coeff: 0.0120\n",
      "Epoch 8/50\n",
      "75/75 [==============================] - ETA: 0s - loss: 0.1326 - dice_coeff: 0.8674\n",
      "Epoch 8: saving model to G:\\Harsh_Birva_minor_Proj\\new_retina_models_5\\separable_upsample_16.keras\n",
      "75/75 [==============================] - 105s 1s/step - loss: 0.1326 - dice_coeff: 0.8674 - val_loss: 0.6802 - val_dice_coeff: 0.3198\n",
      "Epoch 9/50\n",
      "75/75 [==============================] - ETA: 0s - loss: 0.1329 - dice_coeff: 0.8671\n",
      "Epoch 9: saving model to G:\\Harsh_Birva_minor_Proj\\new_retina_models_5\\separable_upsample_16.keras\n",
      "75/75 [==============================] - 105s 1s/step - loss: 0.1329 - dice_coeff: 0.8671 - val_loss: 0.3281 - val_dice_coeff: 0.6719\n",
      "Epoch 10/50\n",
      "75/75 [==============================] - ETA: 0s - loss: 0.1226 - dice_coeff: 0.8774\n",
      "Epoch 10: saving model to G:\\Harsh_Birva_minor_Proj\\new_retina_models_5\\separable_upsample_16.keras\n",
      "75/75 [==============================] - 105s 1s/step - loss: 0.1226 - dice_coeff: 0.8774 - val_loss: 0.1827 - val_dice_coeff: 0.8173\n",
      "Epoch 11/50\n",
      "75/75 [==============================] - ETA: 0s - loss: 0.1156 - dice_coeff: 0.8844\n",
      "Epoch 11: saving model to G:\\Harsh_Birva_minor_Proj\\new_retina_models_5\\separable_upsample_16.keras\n",
      "75/75 [==============================] - 105s 1s/step - loss: 0.1156 - dice_coeff: 0.8844 - val_loss: 0.1496 - val_dice_coeff: 0.8504\n",
      "Epoch 12/50\n",
      "75/75 [==============================] - ETA: 0s - loss: 0.1147 - dice_coeff: 0.8853\n",
      "Epoch 12: saving model to G:\\Harsh_Birva_minor_Proj\\new_retina_models_5\\separable_upsample_16.keras\n",
      "75/75 [==============================] - 105s 1s/step - loss: 0.1147 - dice_coeff: 0.8853 - val_loss: 0.1528 - val_dice_coeff: 0.8472\n",
      "Epoch 13/50\n",
      "75/75 [==============================] - ETA: 0s - loss: 0.1127 - dice_coeff: 0.8873\n",
      "Epoch 13: saving model to G:\\Harsh_Birva_minor_Proj\\new_retina_models_5\\separable_upsample_16.keras\n",
      "75/75 [==============================] - 105s 1s/step - loss: 0.1127 - dice_coeff: 0.8873 - val_loss: 0.1538 - val_dice_coeff: 0.8462\n",
      "Epoch 14/50\n",
      "75/75 [==============================] - ETA: 0s - loss: 0.1103 - dice_coeff: 0.8897\n",
      "Epoch 14: saving model to G:\\Harsh_Birva_minor_Proj\\new_retina_models_5\\separable_upsample_16.keras\n",
      "75/75 [==============================] - 105s 1s/step - loss: 0.1103 - dice_coeff: 0.8897 - val_loss: 0.1400 - val_dice_coeff: 0.8600\n",
      "Epoch 15/50\n",
      "75/75 [==============================] - ETA: 0s - loss: 0.1074 - dice_coeff: 0.8926\n",
      "Epoch 15: saving model to G:\\Harsh_Birva_minor_Proj\\new_retina_models_5\\separable_upsample_16.keras\n",
      "75/75 [==============================] - 105s 1s/step - loss: 0.1074 - dice_coeff: 0.8926 - val_loss: 0.1427 - val_dice_coeff: 0.8573\n",
      "Epoch 16/50\n",
      "75/75 [==============================] - ETA: 0s - loss: 0.1062 - dice_coeff: 0.8938\n",
      "Epoch 16: saving model to G:\\Harsh_Birva_minor_Proj\\new_retina_models_5\\separable_upsample_16.keras\n",
      "75/75 [==============================] - 105s 1s/step - loss: 0.1062 - dice_coeff: 0.8938 - val_loss: 0.1358 - val_dice_coeff: 0.8641\n",
      "Epoch 17/50\n",
      "75/75 [==============================] - ETA: 0s - loss: 0.1070 - dice_coeff: 0.8930\n",
      "Epoch 17: saving model to G:\\Harsh_Birva_minor_Proj\\new_retina_models_5\\separable_upsample_16.keras\n",
      "75/75 [==============================] - 105s 1s/step - loss: 0.1070 - dice_coeff: 0.8930 - val_loss: 0.1316 - val_dice_coeff: 0.8684\n",
      "Epoch 18/50\n",
      "75/75 [==============================] - ETA: 0s - loss: 0.1039 - dice_coeff: 0.8961\n",
      "Epoch 18: saving model to G:\\Harsh_Birva_minor_Proj\\new_retina_models_5\\separable_upsample_16.keras\n",
      "75/75 [==============================] - 105s 1s/step - loss: 0.1039 - dice_coeff: 0.8961 - val_loss: 0.1240 - val_dice_coeff: 0.8760\n",
      "Epoch 19/50\n",
      "75/75 [==============================] - ETA: 0s - loss: 0.1038 - dice_coeff: 0.8962\n",
      "Epoch 19: saving model to G:\\Harsh_Birva_minor_Proj\\new_retina_models_5\\separable_upsample_16.keras\n",
      "75/75 [==============================] - 105s 1s/step - loss: 0.1038 - dice_coeff: 0.8962 - val_loss: 0.1267 - val_dice_coeff: 0.8733\n",
      "Epoch 20/50\n",
      "75/75 [==============================] - ETA: 0s - loss: 0.1033 - dice_coeff: 0.8967\n",
      "Epoch 20: saving model to G:\\Harsh_Birva_minor_Proj\\new_retina_models_5\\separable_upsample_16.keras\n",
      "75/75 [==============================] - 105s 1s/step - loss: 0.1033 - dice_coeff: 0.8967 - val_loss: 0.1247 - val_dice_coeff: 0.8753\n",
      "Epoch 21/50\n",
      "75/75 [==============================] - ETA: 0s - loss: 0.1028 - dice_coeff: 0.8972\n",
      "Epoch 21: saving model to G:\\Harsh_Birva_minor_Proj\\new_retina_models_5\\separable_upsample_16.keras\n",
      "75/75 [==============================] - 119s 2s/step - loss: 0.1028 - dice_coeff: 0.8972 - val_loss: 0.1275 - val_dice_coeff: 0.8725\n",
      "Epoch 22/50\n",
      "75/75 [==============================] - ETA: 0s - loss: 0.0981 - dice_coeff: 0.9019\n",
      "Epoch 22: saving model to G:\\Harsh_Birva_minor_Proj\\new_retina_models_5\\separable_upsample_16.keras\n",
      "75/75 [==============================] - 105s 1s/step - loss: 0.0981 - dice_coeff: 0.9019 - val_loss: 0.1180 - val_dice_coeff: 0.8820\n",
      "Epoch 23/50\n",
      "75/75 [==============================] - ETA: 0s - loss: 0.0999 - dice_coeff: 0.9001\n",
      "Epoch 23: saving model to G:\\Harsh_Birva_minor_Proj\\new_retina_models_5\\separable_upsample_16.keras\n",
      "75/75 [==============================] - 105s 1s/step - loss: 0.0999 - dice_coeff: 0.9001 - val_loss: 0.1299 - val_dice_coeff: 0.8701\n",
      "Epoch 24/50\n",
      "75/75 [==============================] - ETA: 0s - loss: 0.0977 - dice_coeff: 0.9023\n",
      "Epoch 24: saving model to G:\\Harsh_Birva_minor_Proj\\new_retina_models_5\\separable_upsample_16.keras\n",
      "75/75 [==============================] - 105s 1s/step - loss: 0.0977 - dice_coeff: 0.9023 - val_loss: 0.1141 - val_dice_coeff: 0.8859\n",
      "Epoch 25/50\n",
      "75/75 [==============================] - ETA: 0s - loss: 0.0990 - dice_coeff: 0.9010\n",
      "Epoch 25: saving model to G:\\Harsh_Birva_minor_Proj\\new_retina_models_5\\separable_upsample_16.keras\n",
      "75/75 [==============================] - 119s 2s/step - loss: 0.0990 - dice_coeff: 0.9010 - val_loss: 0.1223 - val_dice_coeff: 0.8777\n"
     ]
    },
    {
     "name": "stdout",
     "output_type": "stream",
     "text": [
      "Epoch 26/50\n",
      "75/75 [==============================] - ETA: 0s - loss: 0.0995 - dice_coeff: 0.9005\n",
      "Epoch 26: saving model to G:\\Harsh_Birva_minor_Proj\\new_retina_models_5\\separable_upsample_16.keras\n",
      "75/75 [==============================] - 119s 2s/step - loss: 0.0995 - dice_coeff: 0.9005 - val_loss: 0.1187 - val_dice_coeff: 0.8813\n",
      "Epoch 27/50\n",
      "75/75 [==============================] - ETA: 0s - loss: 0.0975 - dice_coeff: 0.9025\n",
      "Epoch 27: saving model to G:\\Harsh_Birva_minor_Proj\\new_retina_models_5\\separable_upsample_16.keras\n",
      "75/75 [==============================] - 105s 1s/step - loss: 0.0975 - dice_coeff: 0.9025 - val_loss: 0.1184 - val_dice_coeff: 0.8816\n",
      "Epoch 28/50\n",
      "75/75 [==============================] - ETA: 0s - loss: 0.0963 - dice_coeff: 0.9037\n",
      "Epoch 28: saving model to G:\\Harsh_Birva_minor_Proj\\new_retina_models_5\\separable_upsample_16.keras\n",
      "75/75 [==============================] - 105s 1s/step - loss: 0.0963 - dice_coeff: 0.9037 - val_loss: 0.1261 - val_dice_coeff: 0.8739\n",
      "Epoch 29/50\n",
      "75/75 [==============================] - ETA: 0s - loss: 0.0984 - dice_coeff: 0.9016\n",
      "Epoch 29: saving model to G:\\Harsh_Birva_minor_Proj\\new_retina_models_5\\separable_upsample_16.keras\n",
      "75/75 [==============================] - 119s 2s/step - loss: 0.0984 - dice_coeff: 0.9016 - val_loss: 0.1208 - val_dice_coeff: 0.8792\n",
      "Epoch 30/50\n",
      "75/75 [==============================] - ETA: 0s - loss: 0.0960 - dice_coeff: 0.9040\n",
      "Epoch 30: saving model to G:\\Harsh_Birva_minor_Proj\\new_retina_models_5\\separable_upsample_16.keras\n",
      "75/75 [==============================] - 120s 2s/step - loss: 0.0960 - dice_coeff: 0.9040 - val_loss: 0.1215 - val_dice_coeff: 0.8785\n",
      "Epoch 31/50\n",
      "75/75 [==============================] - ETA: 0s - loss: 0.0960 - dice_coeff: 0.9040\n",
      "Epoch 31: saving model to G:\\Harsh_Birva_minor_Proj\\new_retina_models_5\\separable_upsample_16.keras\n",
      "75/75 [==============================] - 105s 1s/step - loss: 0.0960 - dice_coeff: 0.9040 - val_loss: 0.1182 - val_dice_coeff: 0.8818\n",
      "Epoch 32/50\n",
      "75/75 [==============================] - ETA: 0s - loss: 0.0951 - dice_coeff: 0.9049\n",
      "Epoch 32: saving model to G:\\Harsh_Birva_minor_Proj\\new_retina_models_5\\separable_upsample_16.keras\n",
      "75/75 [==============================] - 119s 2s/step - loss: 0.0951 - dice_coeff: 0.9049 - val_loss: 0.1122 - val_dice_coeff: 0.8878\n",
      "Epoch 33/50\n",
      "75/75 [==============================] - ETA: 0s - loss: 0.0934 - dice_coeff: 0.9066\n",
      "Epoch 33: saving model to G:\\Harsh_Birva_minor_Proj\\new_retina_models_5\\separable_upsample_16.keras\n",
      "75/75 [==============================] - 105s 1s/step - loss: 0.0934 - dice_coeff: 0.9066 - val_loss: 0.1215 - val_dice_coeff: 0.8785\n",
      "Epoch 34/50\n",
      "75/75 [==============================] - ETA: 0s - loss: 0.0945 - dice_coeff: 0.9055\n",
      "Epoch 34: saving model to G:\\Harsh_Birva_minor_Proj\\new_retina_models_5\\separable_upsample_16.keras\n",
      "75/75 [==============================] - 105s 1s/step - loss: 0.0945 - dice_coeff: 0.9055 - val_loss: 0.1192 - val_dice_coeff: 0.8808\n",
      "Epoch 35/50\n",
      "75/75 [==============================] - ETA: 0s - loss: 0.0919 - dice_coeff: 0.9081\n",
      "Epoch 35: saving model to G:\\Harsh_Birva_minor_Proj\\new_retina_models_5\\separable_upsample_16.keras\n",
      "75/75 [==============================] - 105s 1s/step - loss: 0.0919 - dice_coeff: 0.9081 - val_loss: 0.1179 - val_dice_coeff: 0.8821\n",
      "Epoch 36/50\n",
      "75/75 [==============================] - ETA: 0s - loss: 0.0932 - dice_coeff: 0.9068\n",
      "Epoch 36: saving model to G:\\Harsh_Birva_minor_Proj\\new_retina_models_5\\separable_upsample_16.keras\n",
      "75/75 [==============================] - 119s 2s/step - loss: 0.0932 - dice_coeff: 0.9068 - val_loss: 0.1258 - val_dice_coeff: 0.8742\n",
      "Epoch 37/50\n",
      "75/75 [==============================] - ETA: 0s - loss: 0.1000 - dice_coeff: 0.9000\n",
      "Epoch 37: saving model to G:\\Harsh_Birva_minor_Proj\\new_retina_models_5\\separable_upsample_16.keras\n",
      "75/75 [==============================] - 119s 2s/step - loss: 0.1000 - dice_coeff: 0.9000 - val_loss: 0.1223 - val_dice_coeff: 0.8777\n",
      "Epoch 38/50\n",
      "75/75 [==============================] - ETA: 0s - loss: 0.0913 - dice_coeff: 0.9087\n",
      "Epoch 38: saving model to G:\\Harsh_Birva_minor_Proj\\new_retina_models_5\\separable_upsample_16.keras\n",
      "75/75 [==============================] - 120s 2s/step - loss: 0.0913 - dice_coeff: 0.9087 - val_loss: 0.1209 - val_dice_coeff: 0.8791\n",
      "Epoch 39/50\n",
      "75/75 [==============================] - ETA: 0s - loss: 0.0912 - dice_coeff: 0.9088\n",
      "Epoch 39: saving model to G:\\Harsh_Birva_minor_Proj\\new_retina_models_5\\separable_upsample_16.keras\n",
      "75/75 [==============================] - 106s 1s/step - loss: 0.0912 - dice_coeff: 0.9088 - val_loss: 0.1104 - val_dice_coeff: 0.8896\n",
      "Epoch 40/50\n",
      "75/75 [==============================] - ETA: 0s - loss: 0.0927 - dice_coeff: 0.9073\n",
      "Epoch 40: saving model to G:\\Harsh_Birva_minor_Proj\\new_retina_models_5\\separable_upsample_16.keras\n",
      "75/75 [==============================] - 105s 1s/step - loss: 0.0927 - dice_coeff: 0.9073 - val_loss: 0.1173 - val_dice_coeff: 0.8827\n",
      "Epoch 41/50\n",
      "75/75 [==============================] - ETA: 0s - loss: 0.0891 - dice_coeff: 0.9109\n",
      "Epoch 41: saving model to G:\\Harsh_Birva_minor_Proj\\new_retina_models_5\\separable_upsample_16.keras\n",
      "75/75 [==============================] - 105s 1s/step - loss: 0.0891 - dice_coeff: 0.9109 - val_loss: 0.1165 - val_dice_coeff: 0.8835\n",
      "Epoch 42/50\n",
      "75/75 [==============================] - ETA: 0s - loss: 0.0898 - dice_coeff: 0.9102\n",
      "Epoch 42: saving model to G:\\Harsh_Birva_minor_Proj\\new_retina_models_5\\separable_upsample_16.keras\n",
      "75/75 [==============================] - 119s 2s/step - loss: 0.0898 - dice_coeff: 0.9102 - val_loss: 0.1089 - val_dice_coeff: 0.8911\n",
      "Epoch 43/50\n",
      "75/75 [==============================] - ETA: 0s - loss: 0.0904 - dice_coeff: 0.9096\n",
      "Epoch 43: saving model to G:\\Harsh_Birva_minor_Proj\\new_retina_models_5\\separable_upsample_16.keras\n",
      "75/75 [==============================] - 105s 1s/step - loss: 0.0904 - dice_coeff: 0.9096 - val_loss: 0.1161 - val_dice_coeff: 0.8839\n",
      "Epoch 44/50\n",
      "75/75 [==============================] - ETA: 0s - loss: 0.0907 - dice_coeff: 0.9093\n",
      "Epoch 44: saving model to G:\\Harsh_Birva_minor_Proj\\new_retina_models_5\\separable_upsample_16.keras\n",
      "75/75 [==============================] - 105s 1s/step - loss: 0.0907 - dice_coeff: 0.9093 - val_loss: 0.1076 - val_dice_coeff: 0.8924\n",
      "Epoch 45/50\n",
      "75/75 [==============================] - ETA: 0s - loss: 0.0943 - dice_coeff: 0.9057\n",
      "Epoch 45: saving model to G:\\Harsh_Birva_minor_Proj\\new_retina_models_5\\separable_upsample_16.keras\n",
      "75/75 [==============================] - 119s 2s/step - loss: 0.0943 - dice_coeff: 0.9057 - val_loss: 0.1091 - val_dice_coeff: 0.8909\n",
      "Epoch 46/50\n",
      "75/75 [==============================] - ETA: 0s - loss: 0.0928 - dice_coeff: 0.9072\n",
      "Epoch 46: saving model to G:\\Harsh_Birva_minor_Proj\\new_retina_models_5\\separable_upsample_16.keras\n",
      "75/75 [==============================] - 120s 2s/step - loss: 0.0928 - dice_coeff: 0.9072 - val_loss: 0.1149 - val_dice_coeff: 0.8851\n",
      "Epoch 47/50\n",
      "75/75 [==============================] - ETA: 0s - loss: 0.0915 - dice_coeff: 0.9085\n",
      "Epoch 47: saving model to G:\\Harsh_Birva_minor_Proj\\new_retina_models_5\\separable_upsample_16.keras\n",
      "75/75 [==============================] - 119s 2s/step - loss: 0.0915 - dice_coeff: 0.9085 - val_loss: 0.1194 - val_dice_coeff: 0.8806\n",
      "Epoch 48/50\n",
      "75/75 [==============================] - ETA: 0s - loss: 0.0960 - dice_coeff: 0.9040\n",
      "Epoch 48: saving model to G:\\Harsh_Birva_minor_Proj\\new_retina_models_5\\separable_upsample_16.keras\n",
      "75/75 [==============================] - 105s 1s/step - loss: 0.0960 - dice_coeff: 0.9040 - val_loss: 0.1130 - val_dice_coeff: 0.8870\n",
      "Epoch 49/50\n",
      "75/75 [==============================] - ETA: 0s - loss: 0.0901 - dice_coeff: 0.9099\n",
      "Epoch 49: saving model to G:\\Harsh_Birva_minor_Proj\\new_retina_models_5\\separable_upsample_16.keras\n",
      "75/75 [==============================] - 105s 1s/step - loss: 0.0901 - dice_coeff: 0.9099 - val_loss: 0.1240 - val_dice_coeff: 0.8760\n",
      "Epoch 50/50\n",
      "75/75 [==============================] - ETA: 0s - loss: 0.0890 - dice_coeff: 0.9110\n",
      "Epoch 50: saving model to G:\\Harsh_Birva_minor_Proj\\new_retina_models_5\\separable_upsample_16.keras\n",
      "75/75 [==============================] - 106s 1s/step - loss: 0.0890 - dice_coeff: 0.9110 - val_loss: 0.1189 - val_dice_coeff: 0.8811\n"
     ]
    }
   ],
   "source": [
    "history = separable_16.fit(\n",
    "        train_generator,\n",
    "        steps_per_epoch=len(df_train) // batch_size,\n",
    "        epochs=epochs,\n",
    "        callbacks=[checkpoint],\n",
    "        validation_data=test_generator,\n",
    "        validation_steps=len(df_test) // batch_size\n",
    "    )"
   ]
  },
  {
   "cell_type": "code",
   "execution_count": null,
   "id": "a36b01a3",
   "metadata": {},
   "outputs": [],
   "source": []
  },
  {
   "cell_type": "code",
   "execution_count": null,
   "id": "d581df4f",
   "metadata": {},
   "outputs": [],
   "source": []
  },
  {
   "cell_type": "code",
   "execution_count": null,
   "id": "84ece09b",
   "metadata": {},
   "outputs": [],
   "source": []
  }
 ],
 "metadata": {
  "kernelspec": {
   "display_name": "Python 3 (ipykernel)",
   "language": "python",
   "name": "python3"
  },
  "language_info": {
   "codemirror_mode": {
    "name": "ipython",
    "version": 3
   },
   "file_extension": ".py",
   "mimetype": "text/x-python",
   "name": "python",
   "nbconvert_exporter": "python",
   "pygments_lexer": "ipython3",
   "version": "3.9.16"
  }
 },
 "nbformat": 4,
 "nbformat_minor": 5
}
